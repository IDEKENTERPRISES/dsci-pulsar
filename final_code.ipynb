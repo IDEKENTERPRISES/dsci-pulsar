{
 "cells": [
  {
   "cell_type": "code",
   "execution_count": 2,
   "id": "0c8daab4-18e6-420c-8e59-46ed5bf0b34e",
   "metadata": {},
   "outputs": [
    {
     "name": "stderr",
     "output_type": "stream",
     "text": [
      "\n",
      "Attaching package: ‘dplyr’\n",
      "\n",
      "\n",
      "The following objects are masked from ‘package:stats’:\n",
      "\n",
      "    filter, lag\n",
      "\n",
      "\n",
      "The following objects are masked from ‘package:base’:\n",
      "\n",
      "    intersect, setdiff, setequal, union\n",
      "\n",
      "\n",
      "── \u001b[1mAttaching packages\u001b[22m ─────────────────────────────────────── tidyverse 1.3.1 ──\n",
      "\n",
      "\u001b[32m✔\u001b[39m \u001b[34mggplot2\u001b[39m 3.3.6     \u001b[32m✔\u001b[39m \u001b[34mpurrr  \u001b[39m 0.3.4\n",
      "\u001b[32m✔\u001b[39m \u001b[34mtibble \u001b[39m 3.1.7     \u001b[32m✔\u001b[39m \u001b[34mstringr\u001b[39m 1.4.0\n",
      "\u001b[32m✔\u001b[39m \u001b[34mtidyr  \u001b[39m 1.2.0     \u001b[32m✔\u001b[39m \u001b[34mforcats\u001b[39m 0.5.1\n",
      "\u001b[32m✔\u001b[39m \u001b[34mreadr  \u001b[39m 2.1.2     \n",
      "\n",
      "── \u001b[1mConflicts\u001b[22m ────────────────────────────────────────── tidyverse_conflicts() ──\n",
      "\u001b[31m✖\u001b[39m \u001b[34mdplyr\u001b[39m::\u001b[32mfilter()\u001b[39m masks \u001b[34mstats\u001b[39m::filter()\n",
      "\u001b[31m✖\u001b[39m \u001b[34mdplyr\u001b[39m::\u001b[32mlag()\u001b[39m    masks \u001b[34mstats\u001b[39m::lag()\n",
      "\n",
      "── \u001b[1mAttaching packages\u001b[22m ────────────────────────────────────── tidymodels 1.0.0 ──\n",
      "\n",
      "\u001b[32m✔\u001b[39m \u001b[34mbroom       \u001b[39m 1.0.0     \u001b[32m✔\u001b[39m \u001b[34mrsample     \u001b[39m 1.0.0\n",
      "\u001b[32m✔\u001b[39m \u001b[34mdials       \u001b[39m 1.0.0     \u001b[32m✔\u001b[39m \u001b[34mtune        \u001b[39m 1.0.0\n",
      "\u001b[32m✔\u001b[39m \u001b[34minfer       \u001b[39m 1.0.2     \u001b[32m✔\u001b[39m \u001b[34mworkflows   \u001b[39m 1.0.0\n",
      "\u001b[32m✔\u001b[39m \u001b[34mmodeldata   \u001b[39m 1.0.0     \u001b[32m✔\u001b[39m \u001b[34mworkflowsets\u001b[39m 1.0.0\n",
      "\u001b[32m✔\u001b[39m \u001b[34mparsnip     \u001b[39m 1.0.0     \u001b[32m✔\u001b[39m \u001b[34myardstick   \u001b[39m 1.0.0\n",
      "\u001b[32m✔\u001b[39m \u001b[34mrecipes     \u001b[39m 1.0.1     \n",
      "\n",
      "── \u001b[1mConflicts\u001b[22m ───────────────────────────────────────── tidymodels_conflicts() ──\n",
      "\u001b[31m✖\u001b[39m \u001b[34mscales\u001b[39m::\u001b[32mdiscard()\u001b[39m masks \u001b[34mpurrr\u001b[39m::discard()\n",
      "\u001b[31m✖\u001b[39m \u001b[34mdplyr\u001b[39m::\u001b[32mfilter()\u001b[39m   masks \u001b[34mstats\u001b[39m::filter()\n",
      "\u001b[31m✖\u001b[39m \u001b[34mrecipes\u001b[39m::\u001b[32mfixed()\u001b[39m  masks \u001b[34mstringr\u001b[39m::fixed()\n",
      "\u001b[31m✖\u001b[39m \u001b[34mdplyr\u001b[39m::\u001b[32mlag()\u001b[39m      masks \u001b[34mstats\u001b[39m::lag()\n",
      "\u001b[31m✖\u001b[39m \u001b[34myardstick\u001b[39m::\u001b[32mspec()\u001b[39m masks \u001b[34mreadr\u001b[39m::spec()\n",
      "\u001b[31m✖\u001b[39m \u001b[34mrecipes\u001b[39m::\u001b[32mstep()\u001b[39m   masks \u001b[34mstats\u001b[39m::step()\n",
      "\u001b[34m•\u001b[39m Dig deeper into tidy modeling with R at \u001b[32mhttps://www.tmwr.org\u001b[39m\n",
      "\n",
      "also installing the dependencies ‘RANN’, ‘ROSE’\n",
      "\n",
      "\n",
      "Updating HTML index of packages in '.Library'\n",
      "\n",
      "Making 'packages.html' ...\n",
      " done\n",
      "\n"
     ]
    }
   ],
   "source": [
    "library(repr)\n",
    "library(dplyr)\n",
    "library(tidyverse)\n",
    "library(tidymodels)\n",
    "install.packages(\"themis\")\n",
    "library(themis)\n",
    "options(repr.matrix.max.rows = 10)"
   ]
  },
  {
   "cell_type": "code",
   "execution_count": 3,
   "id": "0c938d02-cef6-41b4-af9e-4e32d1004c6d",
   "metadata": {},
   "outputs": [
    {
     "name": "stderr",
     "output_type": "stream",
     "text": [
      "\u001b[1mRows: \u001b[22m\u001b[34m17898\u001b[39m \u001b[1mColumns: \u001b[22m\u001b[34m9\u001b[39m\n",
      "\u001b[36m──\u001b[39m \u001b[1mColumn specification\u001b[22m \u001b[36m────────────────────────────────────────────────────────\u001b[39m\n",
      "\u001b[1mDelimiter:\u001b[22m \",\"\n",
      "\u001b[32mdbl\u001b[39m (9): X1, X2, X3, X4, X5, X6, X7, X8, X9\n",
      "\n",
      "\u001b[36mℹ\u001b[39m Use `spec()` to retrieve the full column specification for this data.\n",
      "\u001b[36mℹ\u001b[39m Specify the column types or set `show_col_types = FALSE` to quiet this message.\n"
     ]
    },
    {
     "data": {
      "text/html": [
       "<table class=\"dataframe\">\n",
       "<caption>A tibble: 17898 × 10</caption>\n",
       "<thead>\n",
       "\t<tr><th scope=col>id</th><th scope=col>class</th><th scope=col>mean_intp</th><th scope=col>std_dev_intp</th><th scope=col>xs_kurtosis_intp</th><th scope=col>skewness_intp</th><th scope=col>mean_dmsnr</th><th scope=col>std_dev_dmsnr</th><th scope=col>xs_kurtosis_dmsnr</th><th scope=col>skewness_dmsnr</th></tr>\n",
       "\t<tr><th scope=col>&lt;fct&gt;</th><th scope=col>&lt;chr&gt;</th><th scope=col>&lt;dbl&gt;</th><th scope=col>&lt;dbl&gt;</th><th scope=col>&lt;dbl&gt;</th><th scope=col>&lt;dbl&gt;</th><th scope=col>&lt;dbl&gt;</th><th scope=col>&lt;dbl&gt;</th><th scope=col>&lt;dbl&gt;</th><th scope=col>&lt;dbl&gt;</th></tr>\n",
       "</thead>\n",
       "<tbody>\n",
       "\t<tr><td>1</td><td>non_pulsar</td><td>140.56250</td><td>55.68378</td><td>-0.23457141</td><td>-0.6996484</td><td>3.199833</td><td>19.11043</td><td> 7.975532</td><td> 74.24222</td></tr>\n",
       "\t<tr><td>2</td><td>non_pulsar</td><td>102.50781</td><td>58.88243</td><td> 0.46531815</td><td>-0.5150879</td><td>1.677258</td><td>14.86015</td><td>10.576487</td><td>127.39358</td></tr>\n",
       "\t<tr><td>3</td><td>non_pulsar</td><td>103.01562</td><td>39.34165</td><td> 0.32332837</td><td> 1.0511644</td><td>3.121237</td><td>21.74467</td><td> 7.735822</td><td> 63.17191</td></tr>\n",
       "\t<tr><td>4</td><td>non_pulsar</td><td>136.75000</td><td>57.17845</td><td>-0.06841464</td><td>-0.6362384</td><td>3.642977</td><td>20.95928</td><td> 6.896499</td><td> 53.59366</td></tr>\n",
       "\t<tr><td>5</td><td>non_pulsar</td><td> 88.72656</td><td>40.67223</td><td> 0.60086608</td><td> 1.1234917</td><td>1.178930</td><td>11.46872</td><td>14.269573</td><td>252.56731</td></tr>\n",
       "\t<tr><td>⋮</td><td>⋮</td><td>⋮</td><td>⋮</td><td>⋮</td><td>⋮</td><td>⋮</td><td>⋮</td><td>⋮</td><td>⋮</td></tr>\n",
       "\t<tr><td>17894</td><td>non_pulsar</td><td>136.4297</td><td>59.84742</td><td>-0.1878456</td><td>-0.73812297</td><td>  1.296823</td><td>12.16606</td><td>15.450260</td><td>285.931022</td></tr>\n",
       "\t<tr><td>17895</td><td>non_pulsar</td><td>122.5547</td><td>49.48561</td><td> 0.1279781</td><td> 0.32306090</td><td> 16.409699</td><td>44.62689</td><td> 2.945244</td><td>  8.297092</td></tr>\n",
       "\t<tr><td>17896</td><td>non_pulsar</td><td>119.3359</td><td>59.93594</td><td> 0.1593631</td><td>-0.74302540</td><td> 21.430602</td><td>58.87200</td><td> 2.499517</td><td>  4.595173</td></tr>\n",
       "\t<tr><td>17897</td><td>non_pulsar</td><td>114.5078</td><td>53.90240</td><td> 0.2011614</td><td>-0.02478884</td><td>  1.946488</td><td>13.38173</td><td>10.007967</td><td>134.238910</td></tr>\n",
       "\t<tr><td>17898</td><td>non_pulsar</td><td> 57.0625</td><td>85.79734</td><td> 1.4063910</td><td> 0.08951971</td><td>188.306020</td><td>64.71256</td><td>-1.597527</td><td>  1.429475</td></tr>\n",
       "</tbody>\n",
       "</table>\n"
      ],
      "text/latex": [
       "A tibble: 17898 × 10\n",
       "\\begin{tabular}{llllllllll}\n",
       " id & class & mean\\_intp & std\\_dev\\_intp & xs\\_kurtosis\\_intp & skewness\\_intp & mean\\_dmsnr & std\\_dev\\_dmsnr & xs\\_kurtosis\\_dmsnr & skewness\\_dmsnr\\\\\n",
       " <fct> & <chr> & <dbl> & <dbl> & <dbl> & <dbl> & <dbl> & <dbl> & <dbl> & <dbl>\\\\\n",
       "\\hline\n",
       "\t 1 & non\\_pulsar & 140.56250 & 55.68378 & -0.23457141 & -0.6996484 & 3.199833 & 19.11043 &  7.975532 &  74.24222\\\\\n",
       "\t 2 & non\\_pulsar & 102.50781 & 58.88243 &  0.46531815 & -0.5150879 & 1.677258 & 14.86015 & 10.576487 & 127.39358\\\\\n",
       "\t 3 & non\\_pulsar & 103.01562 & 39.34165 &  0.32332837 &  1.0511644 & 3.121237 & 21.74467 &  7.735822 &  63.17191\\\\\n",
       "\t 4 & non\\_pulsar & 136.75000 & 57.17845 & -0.06841464 & -0.6362384 & 3.642977 & 20.95928 &  6.896499 &  53.59366\\\\\n",
       "\t 5 & non\\_pulsar &  88.72656 & 40.67223 &  0.60086608 &  1.1234917 & 1.178930 & 11.46872 & 14.269573 & 252.56731\\\\\n",
       "\t ⋮ & ⋮ & ⋮ & ⋮ & ⋮ & ⋮ & ⋮ & ⋮ & ⋮ & ⋮\\\\\n",
       "\t 17894 & non\\_pulsar & 136.4297 & 59.84742 & -0.1878456 & -0.73812297 &   1.296823 & 12.16606 & 15.450260 & 285.931022\\\\\n",
       "\t 17895 & non\\_pulsar & 122.5547 & 49.48561 &  0.1279781 &  0.32306090 &  16.409699 & 44.62689 &  2.945244 &   8.297092\\\\\n",
       "\t 17896 & non\\_pulsar & 119.3359 & 59.93594 &  0.1593631 & -0.74302540 &  21.430602 & 58.87200 &  2.499517 &   4.595173\\\\\n",
       "\t 17897 & non\\_pulsar & 114.5078 & 53.90240 &  0.2011614 & -0.02478884 &   1.946488 & 13.38173 & 10.007967 & 134.238910\\\\\n",
       "\t 17898 & non\\_pulsar &  57.0625 & 85.79734 &  1.4063910 &  0.08951971 & 188.306020 & 64.71256 & -1.597527 &   1.429475\\\\\n",
       "\\end{tabular}\n"
      ],
      "text/markdown": [
       "\n",
       "A tibble: 17898 × 10\n",
       "\n",
       "| id &lt;fct&gt; | class &lt;chr&gt; | mean_intp &lt;dbl&gt; | std_dev_intp &lt;dbl&gt; | xs_kurtosis_intp &lt;dbl&gt; | skewness_intp &lt;dbl&gt; | mean_dmsnr &lt;dbl&gt; | std_dev_dmsnr &lt;dbl&gt; | xs_kurtosis_dmsnr &lt;dbl&gt; | skewness_dmsnr &lt;dbl&gt; |\n",
       "|---|---|---|---|---|---|---|---|---|---|\n",
       "| 1 | non_pulsar | 140.56250 | 55.68378 | -0.23457141 | -0.6996484 | 3.199833 | 19.11043 |  7.975532 |  74.24222 |\n",
       "| 2 | non_pulsar | 102.50781 | 58.88243 |  0.46531815 | -0.5150879 | 1.677258 | 14.86015 | 10.576487 | 127.39358 |\n",
       "| 3 | non_pulsar | 103.01562 | 39.34165 |  0.32332837 |  1.0511644 | 3.121237 | 21.74467 |  7.735822 |  63.17191 |\n",
       "| 4 | non_pulsar | 136.75000 | 57.17845 | -0.06841464 | -0.6362384 | 3.642977 | 20.95928 |  6.896499 |  53.59366 |\n",
       "| 5 | non_pulsar |  88.72656 | 40.67223 |  0.60086608 |  1.1234917 | 1.178930 | 11.46872 | 14.269573 | 252.56731 |\n",
       "| ⋮ | ⋮ | ⋮ | ⋮ | ⋮ | ⋮ | ⋮ | ⋮ | ⋮ | ⋮ |\n",
       "| 17894 | non_pulsar | 136.4297 | 59.84742 | -0.1878456 | -0.73812297 |   1.296823 | 12.16606 | 15.450260 | 285.931022 |\n",
       "| 17895 | non_pulsar | 122.5547 | 49.48561 |  0.1279781 |  0.32306090 |  16.409699 | 44.62689 |  2.945244 |   8.297092 |\n",
       "| 17896 | non_pulsar | 119.3359 | 59.93594 |  0.1593631 | -0.74302540 |  21.430602 | 58.87200 |  2.499517 |   4.595173 |\n",
       "| 17897 | non_pulsar | 114.5078 | 53.90240 |  0.2011614 | -0.02478884 |   1.946488 | 13.38173 | 10.007967 | 134.238910 |\n",
       "| 17898 | non_pulsar |  57.0625 | 85.79734 |  1.4063910 |  0.08951971 | 188.306020 | 64.71256 | -1.597527 |   1.429475 |\n",
       "\n"
      ],
      "text/plain": [
       "      id    class      mean_intp std_dev_intp xs_kurtosis_intp skewness_intp\n",
       "1     1     non_pulsar 140.56250 55.68378     -0.23457141      -0.6996484   \n",
       "2     2     non_pulsar 102.50781 58.88243      0.46531815      -0.5150879   \n",
       "3     3     non_pulsar 103.01562 39.34165      0.32332837       1.0511644   \n",
       "4     4     non_pulsar 136.75000 57.17845     -0.06841464      -0.6362384   \n",
       "5     5     non_pulsar  88.72656 40.67223      0.60086608       1.1234917   \n",
       "⋮     ⋮     ⋮          ⋮         ⋮            ⋮                ⋮            \n",
       "17894 17894 non_pulsar 136.4297  59.84742     -0.1878456       -0.73812297  \n",
       "17895 17895 non_pulsar 122.5547  49.48561      0.1279781        0.32306090  \n",
       "17896 17896 non_pulsar 119.3359  59.93594      0.1593631       -0.74302540  \n",
       "17897 17897 non_pulsar 114.5078  53.90240      0.2011614       -0.02478884  \n",
       "17898 17898 non_pulsar  57.0625  85.79734      1.4063910        0.08951971  \n",
       "      mean_dmsnr std_dev_dmsnr xs_kurtosis_dmsnr skewness_dmsnr\n",
       "1     3.199833   19.11043       7.975532          74.24222     \n",
       "2     1.677258   14.86015      10.576487         127.39358     \n",
       "3     3.121237   21.74467       7.735822          63.17191     \n",
       "4     3.642977   20.95928       6.896499          53.59366     \n",
       "5     1.178930   11.46872      14.269573         252.56731     \n",
       "⋮     ⋮          ⋮             ⋮                 ⋮             \n",
       "17894   1.296823 12.16606      15.450260         285.931022    \n",
       "17895  16.409699 44.62689       2.945244           8.297092    \n",
       "17896  21.430602 58.87200       2.499517           4.595173    \n",
       "17897   1.946488 13.38173      10.007967         134.238910    \n",
       "17898 188.306020 64.71256      -1.597527           1.429475    "
      ]
     },
     "metadata": {},
     "output_type": "display_data"
    }
   ],
   "source": [
    "# Downloading the unscaled dataset from the web.\n",
    "pulsar_url <- \"https://archive.ics.uci.edu/ml/machine-learning-databases/00372/HTRU2.zip\"\n",
    "download.file(pulsar_url, \"HTRU2.zip\")\n",
    "unzip(\"HTRU2.zip\")\n",
    "\n",
    "# Reading and tidying the dataset.\n",
    "pulsar_data <- read_csv(\"HTRU_2.csv\", col_names = FALSE) |> \n",
    "    # Add column names:\n",
    "    rename(mean_intp = X1, \n",
    "           std_dev_intp = X2, \n",
    "           xs_kurtosis_intp = X3, \n",
    "           skewness_intp = X4, \n",
    "           mean_dmsnr = X5, \n",
    "           std_dev_dmsnr = X6, \n",
    "           xs_kurtosis_dmsnr = X7, \n",
    "           skewness_dmsnr = X8, \n",
    "           class = X9) |>\n",
    "    tibble::rowid_to_column('id') |> # Adds an id to each individual pulsar star candidate.\n",
    "    mutate(class = as_factor(class), id = as_factor(id)) |> # Change class from dbl to factor (category) as these are categorial variables.\n",
    "    select(id, class, everything()) |> # Reorder class as the first column in the table for organization purposes.\n",
    "    mutate(class = case_when(class == 0 ~ \"non_pulsar\",\n",
    "                            class == 1 ~ \"pulsar\")) # Clarify the classes.\n",
    "\n",
    "pulsar_data"
   ]
  },
  {
   "cell_type": "code",
   "execution_count": 4,
   "id": "a3c98912-6a22-4b14-a5b8-3143e3d5a188",
   "metadata": {},
   "outputs": [],
   "source": [
    "set.seed(2002)\n",
    "\n",
    "# Split data into training and testing data\n",
    "\n",
    "pulsar_data_split <- initial_split(pulsar_data, prop = 0.75, strata = class)\n",
    "pulsar_data_train <- training(pulsar_data_split)\n",
    "pulsar_data_testing <- testing(pulsar_data_split)"
   ]
  },
  {
   "cell_type": "code",
   "execution_count": 5,
   "id": "acff7288-8d5c-441f-a3c3-5bc469f039a2",
   "metadata": {},
   "outputs": [
    {
     "data": {
      "image/png": "[encoded data removed]",
      "text/plain": [
       "plot without title"
      ]
     },
     "metadata": {
      "image/png": {
       "height": 300,
       "width": 600
      }
     },
     "output_type": "display_data"
    }
   ],
   "source": [
    "options(repr.plot.width = 10, repr.plot.height = 5)\n",
    "class_distribution_plot_1 <- pulsar_data_train |>\n",
    "                             ggplot(aes(x = class, fill = class)) +\n",
    "                             geom_bar() + labs(x = \"Class\", y = \"Number of Observations\", fill = \"Class\") +\n",
    "                             theme(text = element_text(size = 12))\n",
    "class_distribution_plot_1"
   ]
  },
  {
   "cell_type": "code",
   "execution_count": 6,
   "id": "fdb3a67a-be0d-42e2-b70f-2b4fdeeb1da4",
   "metadata": {},
   "outputs": [
    {
     "data": {
      "text/html": [
       "<table class=\"dataframe\">\n",
       "<caption>A tibble: 2444 × 10</caption>\n",
       "<thead>\n",
       "\t<tr><th scope=col>id</th><th scope=col>mean_intp</th><th scope=col>std_dev_intp</th><th scope=col>xs_kurtosis_intp</th><th scope=col>skewness_intp</th><th scope=col>mean_dmsnr</th><th scope=col>std_dev_dmsnr</th><th scope=col>xs_kurtosis_dmsnr</th><th scope=col>skewness_dmsnr</th><th scope=col>class</th></tr>\n",
       "\t<tr><th scope=col>&lt;fct&gt;</th><th scope=col>&lt;dbl&gt;</th><th scope=col>&lt;dbl&gt;</th><th scope=col>&lt;dbl&gt;</th><th scope=col>&lt;dbl&gt;</th><th scope=col>&lt;dbl&gt;</th><th scope=col>&lt;dbl&gt;</th><th scope=col>&lt;dbl&gt;</th><th scope=col>&lt;dbl&gt;</th><th scope=col>&lt;fct&gt;</th></tr>\n",
       "</thead>\n",
       "<tbody>\n",
       "\t<tr><td>4029 </td><td>102.4922</td><td>40.77338</td><td>0.26512930</td><td> 1.5441063</td><td>8.073579</td><td>37.02852</td><td>4.680449</td><td> 21.15971</td><td>non_pulsar</td></tr>\n",
       "\t<tr><td>9546 </td><td>110.4453</td><td>55.25238</td><td>0.11425968</td><td>-0.5991983</td><td>5.388796</td><td>28.04187</td><td>5.570570</td><td> 31.69249</td><td>non_pulsar</td></tr>\n",
       "\t<tr><td>11978</td><td>120.6016</td><td>39.64084</td><td>0.30622866</td><td> 0.8938234</td><td>8.260870</td><td>35.10703</td><td>4.475239</td><td> 20.02174</td><td>non_pulsar</td></tr>\n",
       "\t<tr><td>11119</td><td>102.0859</td><td>47.91252</td><td>0.36011235</td><td> 0.2816632</td><td>2.626254</td><td>17.03690</td><td>9.190054</td><td> 98.91683</td><td>non_pulsar</td></tr>\n",
       "\t<tr><td>12970</td><td>130.1094</td><td>55.88342</td><td>0.07224081</td><td>-0.5109587</td><td>2.569398</td><td>14.57369</td><td>8.700873</td><td>102.89946</td><td>non_pulsar</td></tr>\n",
       "\t<tr><td>⋮</td><td>⋮</td><td>⋮</td><td>⋮</td><td>⋮</td><td>⋮</td><td>⋮</td><td>⋮</td><td>⋮</td><td>⋮</td></tr>\n",
       "\t<tr><td>17460</td><td> 39.95312</td><td>31.47218</td><td>3.881383</td><td>20.5227224</td><td> 33.9891304</td><td> 68.01901</td><td> 1.9606233</td><td>  2.564720</td><td>pulsar</td></tr>\n",
       "\t<tr><td>17473</td><td> 95.14844</td><td>46.66856</td><td>1.054644</td><td> 1.9257564</td><td> 99.3060201</td><td>102.46457</td><td> 0.2734398</td><td> -1.757865</td><td>pulsar</td></tr>\n",
       "\t<tr><td>17516</td><td> 89.86719</td><td>47.48229</td><td>1.591325</td><td> 2.5050565</td><td>  0.7633779</td><td> 12.39356</td><td>17.9407446</td><td>333.902630</td><td>pulsar</td></tr>\n",
       "\t<tr><td>17559</td><td> 77.07031</td><td>39.00064</td><td>1.884421</td><td> 6.3721776</td><td> 38.5175585</td><td> 65.74106</td><td> 1.5895132</td><td>  1.285346</td><td>pulsar</td></tr>\n",
       "\t<tr><td>17877</td><td>111.76562</td><td>52.94359</td><td>0.671724</td><td> 0.3835939</td><td>149.8436455</td><td> 97.92695</td><td>-0.6961534</td><td> -1.260403</td><td>pulsar</td></tr>\n",
       "</tbody>\n",
       "</table>\n"
      ],
      "text/latex": [
       "A tibble: 2444 × 10\n",
       "\\begin{tabular}{llllllllll}\n",
       " id & mean\\_intp & std\\_dev\\_intp & xs\\_kurtosis\\_intp & skewness\\_intp & mean\\_dmsnr & std\\_dev\\_dmsnr & xs\\_kurtosis\\_dmsnr & skewness\\_dmsnr & class\\\\\n",
       " <fct> & <dbl> & <dbl> & <dbl> & <dbl> & <dbl> & <dbl> & <dbl> & <dbl> & <fct>\\\\\n",
       "\\hline\n",
       "\t 4029  & 102.4922 & 40.77338 & 0.26512930 &  1.5441063 & 8.073579 & 37.02852 & 4.680449 &  21.15971 & non\\_pulsar\\\\\n",
       "\t 9546  & 110.4453 & 55.25238 & 0.11425968 & -0.5991983 & 5.388796 & 28.04187 & 5.570570 &  31.69249 & non\\_pulsar\\\\\n",
       "\t 11978 & 120.6016 & 39.64084 & 0.30622866 &  0.8938234 & 8.260870 & 35.10703 & 4.475239 &  20.02174 & non\\_pulsar\\\\\n",
       "\t 11119 & 102.0859 & 47.91252 & 0.36011235 &  0.2816632 & 2.626254 & 17.03690 & 9.190054 &  98.91683 & non\\_pulsar\\\\\n",
       "\t 12970 & 130.1094 & 55.88342 & 0.07224081 & -0.5109587 & 2.569398 & 14.57369 & 8.700873 & 102.89946 & non\\_pulsar\\\\\n",
       "\t ⋮ & ⋮ & ⋮ & ⋮ & ⋮ & ⋮ & ⋮ & ⋮ & ⋮ & ⋮\\\\\n",
       "\t 17460 &  39.95312 & 31.47218 & 3.881383 & 20.5227224 &  33.9891304 &  68.01901 &  1.9606233 &   2.564720 & pulsar\\\\\n",
       "\t 17473 &  95.14844 & 46.66856 & 1.054644 &  1.9257564 &  99.3060201 & 102.46457 &  0.2734398 &  -1.757865 & pulsar\\\\\n",
       "\t 17516 &  89.86719 & 47.48229 & 1.591325 &  2.5050565 &   0.7633779 &  12.39356 & 17.9407446 & 333.902630 & pulsar\\\\\n",
       "\t 17559 &  77.07031 & 39.00064 & 1.884421 &  6.3721776 &  38.5175585 &  65.74106 &  1.5895132 &   1.285346 & pulsar\\\\\n",
       "\t 17877 & 111.76562 & 52.94359 & 0.671724 &  0.3835939 & 149.8436455 &  97.92695 & -0.6961534 &  -1.260403 & pulsar\\\\\n",
       "\\end{tabular}\n"
      ],
      "text/markdown": [
       "\n",
       "A tibble: 2444 × 10\n",
       "\n",
       "| id &lt;fct&gt; | mean_intp &lt;dbl&gt; | std_dev_intp &lt;dbl&gt; | xs_kurtosis_intp &lt;dbl&gt; | skewness_intp &lt;dbl&gt; | mean_dmsnr &lt;dbl&gt; | std_dev_dmsnr &lt;dbl&gt; | xs_kurtosis_dmsnr &lt;dbl&gt; | skewness_dmsnr &lt;dbl&gt; | class &lt;fct&gt; |\n",
       "|---|---|---|---|---|---|---|---|---|---|\n",
       "| 4029  | 102.4922 | 40.77338 | 0.26512930 |  1.5441063 | 8.073579 | 37.02852 | 4.680449 |  21.15971 | non_pulsar |\n",
       "| 9546  | 110.4453 | 55.25238 | 0.11425968 | -0.5991983 | 5.388796 | 28.04187 | 5.570570 |  31.69249 | non_pulsar |\n",
       "| 11978 | 120.6016 | 39.64084 | 0.30622866 |  0.8938234 | 8.260870 | 35.10703 | 4.475239 |  20.02174 | non_pulsar |\n",
       "| 11119 | 102.0859 | 47.91252 | 0.36011235 |  0.2816632 | 2.626254 | 17.03690 | 9.190054 |  98.91683 | non_pulsar |\n",
       "| 12970 | 130.1094 | 55.88342 | 0.07224081 | -0.5109587 | 2.569398 | 14.57369 | 8.700873 | 102.89946 | non_pulsar |\n",
       "| ⋮ | ⋮ | ⋮ | ⋮ | ⋮ | ⋮ | ⋮ | ⋮ | ⋮ | ⋮ |\n",
       "| 17460 |  39.95312 | 31.47218 | 3.881383 | 20.5227224 |  33.9891304 |  68.01901 |  1.9606233 |   2.564720 | pulsar |\n",
       "| 17473 |  95.14844 | 46.66856 | 1.054644 |  1.9257564 |  99.3060201 | 102.46457 |  0.2734398 |  -1.757865 | pulsar |\n",
       "| 17516 |  89.86719 | 47.48229 | 1.591325 |  2.5050565 |   0.7633779 |  12.39356 | 17.9407446 | 333.902630 | pulsar |\n",
       "| 17559 |  77.07031 | 39.00064 | 1.884421 |  6.3721776 |  38.5175585 |  65.74106 |  1.5895132 |   1.285346 | pulsar |\n",
       "| 17877 | 111.76562 | 52.94359 | 0.671724 |  0.3835939 | 149.8436455 |  97.92695 | -0.6961534 |  -1.260403 | pulsar |\n",
       "\n"
      ],
      "text/plain": [
       "     id    mean_intp std_dev_intp xs_kurtosis_intp skewness_intp mean_dmsnr \n",
       "1    4029  102.4922  40.77338     0.26512930        1.5441063    8.073579   \n",
       "2    9546  110.4453  55.25238     0.11425968       -0.5991983    5.388796   \n",
       "3    11978 120.6016  39.64084     0.30622866        0.8938234    8.260870   \n",
       "4    11119 102.0859  47.91252     0.36011235        0.2816632    2.626254   \n",
       "5    12970 130.1094  55.88342     0.07224081       -0.5109587    2.569398   \n",
       "⋮    ⋮     ⋮         ⋮            ⋮                ⋮             ⋮          \n",
       "2440 17460  39.95312 31.47218     3.881383         20.5227224     33.9891304\n",
       "2441 17473  95.14844 46.66856     1.054644          1.9257564     99.3060201\n",
       "2442 17516  89.86719 47.48229     1.591325          2.5050565      0.7633779\n",
       "2443 17559  77.07031 39.00064     1.884421          6.3721776     38.5175585\n",
       "2444 17877 111.76562 52.94359     0.671724          0.3835939    149.8436455\n",
       "     std_dev_dmsnr xs_kurtosis_dmsnr skewness_dmsnr class     \n",
       "1    37.02852      4.680449           21.15971      non_pulsar\n",
       "2    28.04187      5.570570           31.69249      non_pulsar\n",
       "3    35.10703      4.475239           20.02174      non_pulsar\n",
       "4    17.03690      9.190054           98.91683      non_pulsar\n",
       "5    14.57369      8.700873          102.89946      non_pulsar\n",
       "⋮    ⋮             ⋮                 ⋮              ⋮         \n",
       "2440  68.01901      1.9606233          2.564720     pulsar    \n",
       "2441 102.46457      0.2734398         -1.757865     pulsar    \n",
       "2442  12.39356     17.9407446        333.902630     pulsar    \n",
       "2443  65.74106      1.5895132          1.285346     pulsar    \n",
       "2444  97.92695     -0.6961534         -1.260403     pulsar    "
      ]
     },
     "metadata": {},
     "output_type": "display_data"
    }
   ],
   "source": [
    "set.seed(2002)\n",
    "# Balancing the classes\n",
    "\n",
    "ups_recipe <- recipe(class ~ ., data = pulsar_data_train) |>\n",
    "              step_downsample(class, under_ratio = 1, skip = FALSE) |>\n",
    "              prep()\n",
    "\n",
    "pulsar_data_training <- bake(ups_recipe, pulsar_data_train)\n",
    "\n",
    "pulsar_data_training"
   ]
  },
  {
   "cell_type": "code",
   "execution_count": 7,
   "id": "3222769c-516a-487b-8e49-82708db52539",
   "metadata": {},
   "outputs": [
    {
     "data": {
      "image/png": "[encoded data removed]",
      "text/plain": [
       "plot without title"
      ]
     },
     "metadata": {
      "image/png": {
       "height": 300,
       "width": 600
      }
     },
     "output_type": "display_data"
    }
   ],
   "source": [
    "options(repr.plot.width = 10, repr.plot.height = 5)\n",
    "class_distribution_plot <- pulsar_data_training |>\n",
    "                           ggplot(aes(x = class, fill = class)) +\n",
    "                           geom_bar() + labs(x = \"Class\", y = \"Number of Observations\", fill = \"Class\") +\n",
    "                           theme(text = element_text(size = 12))\n",
    "class_distribution_plot"
   ]
  },
  {
   "cell_type": "code",
   "execution_count": 8,
   "id": "94a4c2f0-6ec0-403e-b6ac-17818893ead1",
   "metadata": {},
   "outputs": [],
   "source": [
    "# Create recipe with training data that centres and scales data\n",
    "set.seed(2002)\n",
    "pulsar_data_recipe <- recipe(class ~ mean_intp + std_dev_intp + xs_kurtosis_intp + skewness_intp + mean_dmsnr + std_dev_dmsnr +\n",
    "                                     xs_kurtosis_dmsnr + skewness_dmsnr, data = pulsar_data_training) |>\n",
    "                      step_scale(all_predictors()) |>\n",
    "                      step_center(all_predictors())\n"
   ]
  },
  {
   "cell_type": "code",
   "execution_count": 9,
   "id": "c9f23ec2-a1e5-49ed-b691-b7fe37c228b2",
   "metadata": {},
   "outputs": [],
   "source": [
    "# Create KNN model that sets neighbours to tune()\n",
    "set.seed(2002)\n",
    "pulsar_data_tune <- nearest_neighbor(weight_func = \"rectangular\", neighbors = tune()) |>\n",
    "                    set_engine(\"kknn\") |>\n",
    "                    set_mode(\"classification\")"
   ]
  },
  {
   "cell_type": "code",
   "execution_count": 10,
   "id": "ef55a200-c615-497a-9e87-e2103810b4ab",
   "metadata": {},
   "outputs": [],
   "source": [
    "# Create cross validation using training data\n",
    "set.seed(2002)\n",
    "pulsar_data_vfold <- vfold_cv(pulsar_data_training, v = 5, strata = class)\n"
   ]
  },
  {
   "cell_type": "code",
   "execution_count": 13,
   "id": "bfdfbc64-8d30-4534-a0f5-864d81656577",
   "metadata": {},
   "outputs": [],
   "source": [
    "# Create workflow\n",
    "set.seed(2002)\n",
    "\n",
    "grid_vals <- tibble(neighbors = 1:10)\n",
    "\n",
    "pulsar_data_results <- workflow() |>\n",
    "                       add_recipe(pulsar_data_recipe) |>\n",
    "                       add_model(pulsar_data_tune) |>\n",
    "                       tune_grid(resamples = pulsar_data_vfold, grid = grid_vals) |>\n",
    "                       collect_metrics()"
   ]
  },
  {
   "cell_type": "code",
   "execution_count": 14,
   "id": "362ecfed-74ea-4482-8ab0-f2a56cb5212c",
   "metadata": {},
   "outputs": [
    {
     "data": {
      "text/html": [
       "<table class=\"dataframe\">\n",
       "<caption>A tibble: 10 × 7</caption>\n",
       "<thead>\n",
       "\t<tr><th scope=col>neighbors</th><th scope=col>.metric</th><th scope=col>.estimator</th><th scope=col>mean</th><th scope=col>n</th><th scope=col>std_err</th><th scope=col>.config</th></tr>\n",
       "\t<tr><th scope=col>&lt;int&gt;</th><th scope=col>&lt;chr&gt;</th><th scope=col>&lt;chr&gt;</th><th scope=col>&lt;dbl&gt;</th><th scope=col>&lt;int&gt;</th><th scope=col>&lt;dbl&gt;</th><th scope=col>&lt;chr&gt;</th></tr>\n",
       "</thead>\n",
       "<tbody>\n",
       "\t<tr><td> 1</td><td>accuracy</td><td>binary</td><td>0.9165490</td><td>5</td><td>0.009283479</td><td>Preprocessor1_Model01</td></tr>\n",
       "\t<tr><td> 2</td><td>accuracy</td><td>binary</td><td>0.9165490</td><td>5</td><td>0.009283479</td><td>Preprocessor1_Model02</td></tr>\n",
       "\t<tr><td> 3</td><td>accuracy</td><td>binary</td><td>0.9316912</td><td>5</td><td>0.007948410</td><td>Preprocessor1_Model03</td></tr>\n",
       "\t<tr><td> 4</td><td>accuracy</td><td>binary</td><td>0.9316912</td><td>5</td><td>0.007948410</td><td>Preprocessor1_Model04</td></tr>\n",
       "\t<tr><td> 5</td><td>accuracy</td><td>binary</td><td>0.9312697</td><td>5</td><td>0.007031135</td><td>Preprocessor1_Model05</td></tr>\n",
       "\t<tr><td> 6</td><td>accuracy</td><td>binary</td><td>0.9312697</td><td>5</td><td>0.007031135</td><td>Preprocessor1_Model06</td></tr>\n",
       "\t<tr><td> 7</td><td>accuracy</td><td>binary</td><td>0.9341385</td><td>5</td><td>0.008248614</td><td>Preprocessor1_Model07</td></tr>\n",
       "\t<tr><td> 8</td><td>accuracy</td><td>binary</td><td>0.9341385</td><td>5</td><td>0.008248614</td><td>Preprocessor1_Model08</td></tr>\n",
       "\t<tr><td> 9</td><td>accuracy</td><td>binary</td><td>0.9329090</td><td>5</td><td>0.007674446</td><td>Preprocessor1_Model09</td></tr>\n",
       "\t<tr><td>10</td><td>accuracy</td><td>binary</td><td>0.9329090</td><td>5</td><td>0.007674446</td><td>Preprocessor1_Model10</td></tr>\n",
       "</tbody>\n",
       "</table>\n"
      ],
      "text/latex": [
       "A tibble: 10 × 7\n",
       "\\begin{tabular}{lllllll}\n",
       " neighbors & .metric & .estimator & mean & n & std\\_err & .config\\\\\n",
       " <int> & <chr> & <chr> & <dbl> & <int> & <dbl> & <chr>\\\\\n",
       "\\hline\n",
       "\t  1 & accuracy & binary & 0.9165490 & 5 & 0.009283479 & Preprocessor1\\_Model01\\\\\n",
       "\t  2 & accuracy & binary & 0.9165490 & 5 & 0.009283479 & Preprocessor1\\_Model02\\\\\n",
       "\t  3 & accuracy & binary & 0.9316912 & 5 & 0.007948410 & Preprocessor1\\_Model03\\\\\n",
       "\t  4 & accuracy & binary & 0.9316912 & 5 & 0.007948410 & Preprocessor1\\_Model04\\\\\n",
       "\t  5 & accuracy & binary & 0.9312697 & 5 & 0.007031135 & Preprocessor1\\_Model05\\\\\n",
       "\t  6 & accuracy & binary & 0.9312697 & 5 & 0.007031135 & Preprocessor1\\_Model06\\\\\n",
       "\t  7 & accuracy & binary & 0.9341385 & 5 & 0.008248614 & Preprocessor1\\_Model07\\\\\n",
       "\t  8 & accuracy & binary & 0.9341385 & 5 & 0.008248614 & Preprocessor1\\_Model08\\\\\n",
       "\t  9 & accuracy & binary & 0.9329090 & 5 & 0.007674446 & Preprocessor1\\_Model09\\\\\n",
       "\t 10 & accuracy & binary & 0.9329090 & 5 & 0.007674446 & Preprocessor1\\_Model10\\\\\n",
       "\\end{tabular}\n"
      ],
      "text/markdown": [
       "\n",
       "A tibble: 10 × 7\n",
       "\n",
       "| neighbors &lt;int&gt; | .metric &lt;chr&gt; | .estimator &lt;chr&gt; | mean &lt;dbl&gt; | n &lt;int&gt; | std_err &lt;dbl&gt; | .config &lt;chr&gt; |\n",
       "|---|---|---|---|---|---|---|\n",
       "|  1 | accuracy | binary | 0.9165490 | 5 | 0.009283479 | Preprocessor1_Model01 |\n",
       "|  2 | accuracy | binary | 0.9165490 | 5 | 0.009283479 | Preprocessor1_Model02 |\n",
       "|  3 | accuracy | binary | 0.9316912 | 5 | 0.007948410 | Preprocessor1_Model03 |\n",
       "|  4 | accuracy | binary | 0.9316912 | 5 | 0.007948410 | Preprocessor1_Model04 |\n",
       "|  5 | accuracy | binary | 0.9312697 | 5 | 0.007031135 | Preprocessor1_Model05 |\n",
       "|  6 | accuracy | binary | 0.9312697 | 5 | 0.007031135 | Preprocessor1_Model06 |\n",
       "|  7 | accuracy | binary | 0.9341385 | 5 | 0.008248614 | Preprocessor1_Model07 |\n",
       "|  8 | accuracy | binary | 0.9341385 | 5 | 0.008248614 | Preprocessor1_Model08 |\n",
       "|  9 | accuracy | binary | 0.9329090 | 5 | 0.007674446 | Preprocessor1_Model09 |\n",
       "| 10 | accuracy | binary | 0.9329090 | 5 | 0.007674446 | Preprocessor1_Model10 |\n",
       "\n"
      ],
      "text/plain": [
       "   neighbors .metric  .estimator mean      n std_err     .config              \n",
       "1   1        accuracy binary     0.9165490 5 0.009283479 Preprocessor1_Model01\n",
       "2   2        accuracy binary     0.9165490 5 0.009283479 Preprocessor1_Model02\n",
       "3   3        accuracy binary     0.9316912 5 0.007948410 Preprocessor1_Model03\n",
       "4   4        accuracy binary     0.9316912 5 0.007948410 Preprocessor1_Model04\n",
       "5   5        accuracy binary     0.9312697 5 0.007031135 Preprocessor1_Model05\n",
       "6   6        accuracy binary     0.9312697 5 0.007031135 Preprocessor1_Model06\n",
       "7   7        accuracy binary     0.9341385 5 0.008248614 Preprocessor1_Model07\n",
       "8   8        accuracy binary     0.9341385 5 0.008248614 Preprocessor1_Model08\n",
       "9   9        accuracy binary     0.9329090 5 0.007674446 Preprocessor1_Model09\n",
       "10 10        accuracy binary     0.9329090 5 0.007674446 Preprocessor1_Model10"
      ]
     },
     "metadata": {},
     "output_type": "display_data"
    },
    {
     "data": {
      "text/html": [
       "<style>\n",
       ".list-inline {list-style: none; margin:0; padding: 0}\n",
       ".list-inline>li {display: inline-block}\n",
       ".list-inline>li:not(:last-child)::after {content: \"\\00b7\"; padding: 0 .5ex}\n",
       "</style>\n",
       "<ol class=list-inline><li>7</li><li>8</li></ol>\n"
      ],
      "text/latex": [
       "\\begin{enumerate*}\n",
       "\\item 7\n",
       "\\item 8\n",
       "\\end{enumerate*}\n"
      ],
      "text/markdown": [
       "1. 7\n",
       "2. 8\n",
       "\n",
       "\n"
      ],
      "text/plain": [
       "[1] 7 8"
      ]
     },
     "metadata": {},
     "output_type": "display_data"
    }
   ],
   "source": [
    "pulsar_data_accuracy_results <- pulsar_data_results |>\n",
    "                       filter(.metric == \"accuracy\") # Filters to only the accuracy metric.\n",
    "\n",
    "pulsar_data_accuracy_results\n",
    "\n",
    "pulsar_data_optimal_k <- pulsar_data_accuracy_results |>\n",
    "                         filter(mean == max(mean)) |>\n",
    "                         select(neighbors) |> # Gets the optimal k-value.\n",
    "                         pull()\n",
    "\n",
    "pulsar_data_optimal_k"
   ]
  },
  {
   "cell_type": "code",
   "execution_count": 15,
   "id": "e39b9e01-1fdd-404a-8393-f62e887f3568",
   "metadata": {},
   "outputs": [
    {
     "data": {
      "text/html": [
       "<table class=\"dataframe\">\n",
       "<caption>A tibble: 1 × 3</caption>\n",
       "<thead>\n",
       "\t<tr><th scope=col>.metric</th><th scope=col>.estimator</th><th scope=col>.estimate</th></tr>\n",
       "\t<tr><th scope=col>&lt;chr&gt;</th><th scope=col>&lt;chr&gt;</th><th scope=col>&lt;dbl&gt;</th></tr>\n",
       "</thead>\n",
       "<tbody>\n",
       "\t<tr><td>accuracy</td><td>binary</td><td>0.9418994</td></tr>\n",
       "</tbody>\n",
       "</table>\n"
      ],
      "text/latex": [
       "A tibble: 1 × 3\n",
       "\\begin{tabular}{lll}\n",
       " .metric & .estimator & .estimate\\\\\n",
       " <chr> & <chr> & <dbl>\\\\\n",
       "\\hline\n",
       "\t accuracy & binary & 0.9418994\\\\\n",
       "\\end{tabular}\n"
      ],
      "text/markdown": [
       "\n",
       "A tibble: 1 × 3\n",
       "\n",
       "| .metric &lt;chr&gt; | .estimator &lt;chr&gt; | .estimate &lt;dbl&gt; |\n",
       "|---|---|---|\n",
       "| accuracy | binary | 0.9418994 |\n",
       "\n"
      ],
      "text/plain": [
       "  .metric  .estimator .estimate\n",
       "1 accuracy binary     0.9418994"
      ]
     },
     "metadata": {},
     "output_type": "display_data"
    }
   ],
   "source": [
    "#using optimal K value to create the specification\n",
    "set.seed(2002)\n",
    "knn_specification <- nearest_neighbor(weight_func = \"rectangular\", neighbors = 3) |> \n",
    "                     set_engine(\"kknn\") |> \n",
    "                     set_mode(\"classification\")\n",
    "\n",
    "#using the same recipe in the workflow and fit into data training\n",
    "\n",
    "knn_fit <- workflow() |> \n",
    "                add_recipe(pulsar_data_recipe) |> \n",
    "                add_model(knn_specification) |> \n",
    "                fit(data = pulsar_data_training)\n",
    "\n",
    "#predicting\n",
    "knn_prediction <- predict(knn_fit, pulsar_data_testing) |> \n",
    "                  bind_cols(pulsar_data_testing)\n",
    "\n",
    "knn_prediction2 <- knn_prediction |>\n",
    "                   mutate(class = as_factor(class))\n",
    "\n",
    "knn_metrics <-  knn_prediction2 |> \n",
    "                metrics(truth = class, estimate = .pred_class) |>\n",
    "                filter(.metric == \"accuracy\")\n",
    "knn_metrics\n",
    "\n"
   ]
  },
  {
   "cell_type": "code",
   "execution_count": 16,
   "id": "61a518e9-b1a8-4adb-9928-2495fea3166c",
   "metadata": {},
   "outputs": [
    {
     "data": {
      "image/png": "[encoded data removed]",
      "text/plain": [
       "plot without title"
      ]
     },
     "metadata": {
      "image/png": {
       "height": 480,
       "width": 540
      }
     },
     "output_type": "display_data"
    }
   ],
   "source": [
    "options(repr.plot.width = 9, repr.plot.height = 8) # Resize the plot.\n",
    "\n",
    "# pulsar_data_results |>\n",
    "#     filter(.metric == \"accuracy\") # Uncomment this to show all accuracies in a table.\n",
    "\n",
    "pulsar_data_results_plot <- pulsar_data_results |>\n",
    "                filter(.metric == \"accuracy\") |>\n",
    "                select(neighbors, mean) |>\n",
    "                mutate(mean = mean*100) |> # Converts the accuracy from a decimal to a percentage.\n",
    "                ggplot(aes(x = neighbors, y = mean)) +\n",
    "                geom_line() + \n",
    "                geom_point() +\n",
    "                labs(x = \"K-Value\", \n",
    "                     y = \"Accuracy (%)\", \n",
    "                     title = \"K-Value vs. Accuracy Plot\", \n",
    "                     subtitle = \"An illustration of how the k-value affects the accuracy of our model.\") +\n",
    "                theme(text = element_text(size=20), \n",
    "                      plot.subtitle = element_text(size=15, hjust = 0.5), \n",
    "                      plot.title = element_text(size = 25, hjust = 0.5),\n",
    "                      axis.title.y = element_text(size=20, angle = 0, vjust = 0.5),\n",
    "                      axis.title.x = element_text(size=20, vjust = -0.25)) + # Makes the text more readable. +\n",
    "                scale_x_continuous(breaks = 1:10) # Make the x-axis values go from the integers 1-10.\n",
    "\n",
    "pulsar_data_results_plot"
   ]
  },
  {
   "cell_type": "markdown",
   "id": "9762ecd0-0015-4940-aa5f-d61e5080176b",
   "metadata": {},
   "source": [
    "From the plot, we can see that the $k$-values that yield the most accurate results are 7 and 8. In this case, the $k$-value of 7 is the most optimal for our model as it is an odd number thus preventing ties from occuring when comparing the ratio of pulsars and non-pulsars during classification."
   ]
  },
  {
   "cell_type": "code",
   "execution_count": null,
   "id": "e3525792-5577-4f2d-a3eb-e69e77705a1f",
   "metadata": {},
   "outputs": [],
   "source": []
  }
 ],
 "metadata": {
  "kernelspec": {
   "display_name": "R",
   "language": "R",
   "name": "ir"
  },
  "language_info": {
   "codemirror_mode": "r",
   "file_extension": ".r",
   "mimetype": "text/x-r-source",
   "name": "R",
   "pygments_lexer": "r",
   "version": "4.1.3"
  }
 },
 "nbformat": 4,
 "nbformat_minor": 5
}
