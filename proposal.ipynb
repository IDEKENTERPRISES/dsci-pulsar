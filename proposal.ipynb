{
 "cells": [
  {
   "cell_type": "markdown",
   "id": "7a54999a-2ad7-403d-9f74-ab268fb263fc",
   "metadata": {},
   "source": [
    "# Introduction\n",
    "\n",
    "Pulsars belong to a family of neutron stars, which arise when a star more enormous than the sun runs out of fuel and dies on itself. They emit two narrow, constant beams of light in opposite directions. Although the beam's light is steady, when observed from Earth, pulsars appear to flicker because they rotate. Similar to how a lighthouse appears to blink when seen from the sea: As the pulsar rotates, the light beam may sweep over the Earth, swing out of view, and then swing back around, creating the impression that the pulsar is blinking to an astronomer on Earth. \n",
    "\n",
    "Because pulsars are important space objects that allow scientists to study extreme states of matter and various cosmic events, it would be great if we had a system to predict whether a particular space object is a pulsar. Therefore, can we use the given information from the data set to create a model that can predict a pulsar star?\n",
    "\n",
    "The chosen data set contains nine columns. There are eight continuous variables and one class variable. The first four variables are basic statistics derived from a pulsar’s integrated pulse profile, which are unique to a pulsar, whereas the latter four are derived from the DM-SNR (Dispersion Measure of Signal Noise Ratio). \n",
    "\n",
    "The order of the columns is as below:\n",
    "\n",
    "1. Mean of the integrated profile.\n",
    "2. Standard deviation of the integrated profile.\n",
    "3. Excess kurtosis of the integrated profile.\n",
    "4. Skewness of the integrated profile.\n",
    "5. Mean of the DM-SNR curve.\n",
    "6. Standard deviation of the DM-SNR curve.\n",
    "7. Excess kurtosis of the DM-SNR curve.\n",
    "8. Skewness of the DM-SNR curve.\n",
    "9. Class\n"
   ]
  },
  {
   "cell_type": "code",
   "execution_count": 19,
   "id": "09bd97da-5672-4378-b45a-25bcad94d864",
   "metadata": {},
   "outputs": [
    {
     "name": "stderr",
     "output_type": "stream",
     "text": [
      "\u001b[1mRows: \u001b[22m\u001b[34m17898\u001b[39m \u001b[1mColumns: \u001b[22m\u001b[34m9\u001b[39m\n",
      "\u001b[36m──\u001b[39m \u001b[1mColumn specification\u001b[22m \u001b[36m────────────────────────────────────────────────────────\u001b[39m\n",
      "\u001b[1mDelimiter:\u001b[22m \",\"\n",
      "\u001b[32mdbl\u001b[39m (9): X1, X2, X3, X4, X5, X6, X7, X8, X9\n",
      "\n",
      "\u001b[36mℹ\u001b[39m Use `spec()` to retrieve the full column specification for this data.\n",
      "\u001b[36mℹ\u001b[39m Specify the column types or set `show_col_types = FALSE` to quiet this message.\n"
     ]
    }
   ],
   "source": [
    "# Load libraries into R:\n",
    "library(tidyverse)\n",
    "library(dplyr)\n",
    "\n",
    "# Read and tidy dataset:\n",
    "pulsar_data <- read_csv(\"data/HTRU_2.csv\", col_names = FALSE) |>\n",
    "    # Add column names:\n",
    "    rename(mean_int = X1, \n",
    "           std_dev_int = X2, \n",
    "           xs_kurtosis_int = X3, \n",
    "           skewness_int = X4, \n",
    "           mean_dmsnr = X5, \n",
    "           std_dev_dmsnr = X6, \n",
    "           xs_kurtosis_dmsnr = X7, \n",
    "           skewness_dmsnr = X8, \n",
    "           class = X9) |>\n",
    "    mutate(class = as_factor(class)) |> # Change class from dbl to factor (category).\n",
    "    select(class, everything()) # Reorder class as the first column in the table. For organization purposes.\n"
   ]
  },
  {
   "cell_type": "code",
   "execution_count": null,
   "id": "71707396-5d02-4cf3-96bc-632b59d5961d",
   "metadata": {},
   "outputs": [],
   "source": []
  }
 ],
 "metadata": {
  "kernelspec": {
   "display_name": "R",
   "language": "R",
   "name": "ir"
  },
  "language_info": {
   "codemirror_mode": "r",
   "file_extension": ".r",
   "mimetype": "text/x-r-source",
   "name": "R",
   "pygments_lexer": "r",
   "version": "4.1.3"
  }
 },
 "nbformat": 4,
 "nbformat_minor": 5
}
