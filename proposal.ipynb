{
 "cells": [
  {
   "cell_type": "code",
   "execution_count": 1,
   "id": "92cf49ef-125c-4edf-bcd3-21786a8ec09d",
   "metadata": {},
   "outputs": [
    {
     "name": "stderr",
     "output_type": "stream",
     "text": [
      "── \u001b[1mAttaching packages\u001b[22m ─────────────────────────────────────── tidyverse 1.3.1 ──\n",
      "\n",
      "\u001b[32m✔\u001b[39m \u001b[34mggplot2\u001b[39m 3.3.6     \u001b[32m✔\u001b[39m \u001b[34mpurrr  \u001b[39m 0.3.4\n",
      "\u001b[32m✔\u001b[39m \u001b[34mtibble \u001b[39m 3.1.7     \u001b[32m✔\u001b[39m \u001b[34mdplyr  \u001b[39m 1.0.9\n",
      "\u001b[32m✔\u001b[39m \u001b[34mtidyr  \u001b[39m 1.2.0     \u001b[32m✔\u001b[39m \u001b[34mstringr\u001b[39m 1.4.0\n",
      "\u001b[32m✔\u001b[39m \u001b[34mreadr  \u001b[39m 2.1.2     \u001b[32m✔\u001b[39m \u001b[34mforcats\u001b[39m 0.5.1\n",
      "\n",
      "── \u001b[1mConflicts\u001b[22m ────────────────────────────────────────── tidyverse_conflicts() ──\n",
      "\u001b[31m✖\u001b[39m \u001b[34mdplyr\u001b[39m::\u001b[32mfilter()\u001b[39m masks \u001b[34mstats\u001b[39m::filter()\n",
      "\u001b[31m✖\u001b[39m \u001b[34mdplyr\u001b[39m::\u001b[32mlag()\u001b[39m    masks \u001b[34mstats\u001b[39m::lag()\n",
      "\n",
      "── \u001b[1mAttaching packages\u001b[22m ────────────────────────────────────── tidymodels 1.0.0 ──\n",
      "\n",
      "\u001b[32m✔\u001b[39m \u001b[34mbroom       \u001b[39m 1.0.0     \u001b[32m✔\u001b[39m \u001b[34mrsample     \u001b[39m 1.0.0\n",
      "\u001b[32m✔\u001b[39m \u001b[34mdials       \u001b[39m 1.0.0     \u001b[32m✔\u001b[39m \u001b[34mtune        \u001b[39m 1.0.0\n",
      "\u001b[32m✔\u001b[39m \u001b[34minfer       \u001b[39m 1.0.2     \u001b[32m✔\u001b[39m \u001b[34mworkflows   \u001b[39m 1.0.0\n",
      "\u001b[32m✔\u001b[39m \u001b[34mmodeldata   \u001b[39m 1.0.0     \u001b[32m✔\u001b[39m \u001b[34mworkflowsets\u001b[39m 1.0.0\n",
      "\u001b[32m✔\u001b[39m \u001b[34mparsnip     \u001b[39m 1.0.0     \u001b[32m✔\u001b[39m \u001b[34myardstick   \u001b[39m 1.0.0\n",
      "\u001b[32m✔\u001b[39m \u001b[34mrecipes     \u001b[39m 1.0.1     \n",
      "\n",
      "── \u001b[1mConflicts\u001b[22m ───────────────────────────────────────── tidymodels_conflicts() ──\n",
      "\u001b[31m✖\u001b[39m \u001b[34mscales\u001b[39m::\u001b[32mdiscard()\u001b[39m masks \u001b[34mpurrr\u001b[39m::discard()\n",
      "\u001b[31m✖\u001b[39m \u001b[34mdplyr\u001b[39m::\u001b[32mfilter()\u001b[39m   masks \u001b[34mstats\u001b[39m::filter()\n",
      "\u001b[31m✖\u001b[39m \u001b[34mrecipes\u001b[39m::\u001b[32mfixed()\u001b[39m  masks \u001b[34mstringr\u001b[39m::fixed()\n",
      "\u001b[31m✖\u001b[39m \u001b[34mdplyr\u001b[39m::\u001b[32mlag()\u001b[39m      masks \u001b[34mstats\u001b[39m::lag()\n",
      "\u001b[31m✖\u001b[39m \u001b[34myardstick\u001b[39m::\u001b[32mspec()\u001b[39m masks \u001b[34mreadr\u001b[39m::spec()\n",
      "\u001b[31m✖\u001b[39m \u001b[34mrecipes\u001b[39m::\u001b[32mstep()\u001b[39m   masks \u001b[34mstats\u001b[39m::step()\n",
      "\u001b[34m•\u001b[39m Use \u001b[32mtidymodels_prefer()\u001b[39m to resolve common conflicts.\n",
      "\n"
     ]
    }
   ],
   "source": [
    "# Loading the necessary libraries:\n",
    "library(tidyverse)\n",
    "library(dplyr)\n",
    "library(tidymodels)"
   ]
  },
  {
   "cell_type": "markdown",
   "id": "7a54999a-2ad7-403d-9f74-ab268fb263fc",
   "metadata": {},
   "source": [
    "# Introduction\n",
    "\n",
    "Pulsars emit two beams of light in opposite directions. Although the beam's light is steady, pulsars appear to flicker because they rotate.  As the pulsar rotates, the light beam may sweep over the Earth, swinging in and out of view, creating the impression that the pulsar is blinking to an astronomer.\n",
    "\n",
    "Because pulsars are important space objects that allow scientists to study extreme states of matter and cosmic events, it would be great if we had a system to predict whether a particular space object is a pulsar. Therefore, can we use the information from the data set to create a model that can predict a pulsar star?\n",
    "\n",
    "The data set contains nine columns. Eight continuous variables and one class variable. The first four variables are statistics derived from a pulsar’s integrated pulse profile, which are unique to a pulsar, whereas the latter four are derived from the DM-SNR (Dispersion Measure of Signal Noise Ratio).\n",
    "\n"
   ]
  },
  {
   "cell_type": "code",
   "execution_count": 2,
   "id": "09bd97da-5672-4378-b45a-25bcad94d864",
   "metadata": {},
   "outputs": [
    {
     "name": "stderr",
     "output_type": "stream",
     "text": [
      "\u001b[1mRows: \u001b[22m\u001b[34m17898\u001b[39m \u001b[1mColumns: \u001b[22m\u001b[34m9\u001b[39m\n",
      "\u001b[36m──\u001b[39m \u001b[1mColumn specification\u001b[22m \u001b[36m────────────────────────────────────────────────────────\u001b[39m\n",
      "\u001b[1mDelimiter:\u001b[22m \",\"\n",
      "\u001b[32mdbl\u001b[39m (9): X1, X2, X3, X4, X5, X6, X7, X8, X9\n",
      "\n",
      "\u001b[36mℹ\u001b[39m Use `spec()` to retrieve the full column specification for this data.\n",
      "\u001b[36mℹ\u001b[39m Specify the column types or set `show_col_types = FALSE` to quiet this message.\n"
     ]
    },
    {
     "data": {
      "text/html": [
       "<table class=\"dataframe\">\n",
       "<caption>A data.frame: 35796 × 7</caption>\n",
       "<thead>\n",
       "\t<tr><th scope=col>id</th><th scope=col>type</th><th scope=col>class</th><th scope=col>mean</th><th scope=col>standard_deviation</th><th scope=col>excess_kurtosis</th><th scope=col>skewness</th></tr>\n",
       "\t<tr><th scope=col>&lt;fct&gt;</th><th scope=col>&lt;fct&gt;</th><th scope=col>&lt;fct&gt;</th><th scope=col>&lt;dbl&gt;</th><th scope=col>&lt;dbl&gt;</th><th scope=col>&lt;dbl&gt;</th><th scope=col>&lt;dbl&gt;</th></tr>\n",
       "</thead>\n",
       "<tbody>\n",
       "\t<tr><td>1</td><td>integrated_profile</td><td>0</td><td>140.562500</td><td>55.68378</td><td>-0.2345714</td><td> -0.6996484</td></tr>\n",
       "\t<tr><td>1</td><td>dmsnr_curve       </td><td>0</td><td>  3.199833</td><td>19.11043</td><td> 7.9755318</td><td> 74.2422249</td></tr>\n",
       "\t<tr><td>2</td><td>integrated_profile</td><td>0</td><td>102.507812</td><td>58.88243</td><td> 0.4653182</td><td> -0.5150879</td></tr>\n",
       "\t<tr><td>2</td><td>dmsnr_curve       </td><td>0</td><td>  1.677258</td><td>14.86015</td><td>10.5764867</td><td>127.3935796</td></tr>\n",
       "\t<tr><td>3</td><td>integrated_profile</td><td>0</td><td>103.015625</td><td>39.34165</td><td> 0.3233284</td><td>  1.0511644</td></tr>\n",
       "\t<tr><td>⋮</td><td>⋮</td><td>⋮</td><td>⋮</td><td>⋮</td><td>⋮</td><td>⋮</td></tr>\n",
       "\t<tr><td>17896</td><td>dmsnr_curve       </td><td>0</td><td> 21.430602</td><td>58.87200</td><td> 2.4995171</td><td>  4.59517265</td></tr>\n",
       "\t<tr><td>17897</td><td>integrated_profile</td><td>0</td><td>114.507812</td><td>53.90240</td><td> 0.2011614</td><td> -0.02478884</td></tr>\n",
       "\t<tr><td>17897</td><td>dmsnr_curve       </td><td>0</td><td>  1.946488</td><td>13.38173</td><td>10.0079673</td><td>134.23890950</td></tr>\n",
       "\t<tr><td>17898</td><td>integrated_profile</td><td>0</td><td> 57.062500</td><td>85.79734</td><td> 1.4063910</td><td>  0.08951971</td></tr>\n",
       "\t<tr><td>17898</td><td>dmsnr_curve       </td><td>0</td><td>188.306020</td><td>64.71256</td><td>-1.5975266</td><td>  1.42947536</td></tr>\n",
       "</tbody>\n",
       "</table>\n"
      ],
      "text/latex": [
       "A data.frame: 35796 × 7\n",
       "\\begin{tabular}{lllllll}\n",
       " id & type & class & mean & standard\\_deviation & excess\\_kurtosis & skewness\\\\\n",
       " <fct> & <fct> & <fct> & <dbl> & <dbl> & <dbl> & <dbl>\\\\\n",
       "\\hline\n",
       "\t 1 & integrated\\_profile & 0 & 140.562500 & 55.68378 & -0.2345714 &  -0.6996484\\\\\n",
       "\t 1 & dmsnr\\_curve        & 0 &   3.199833 & 19.11043 &  7.9755318 &  74.2422249\\\\\n",
       "\t 2 & integrated\\_profile & 0 & 102.507812 & 58.88243 &  0.4653182 &  -0.5150879\\\\\n",
       "\t 2 & dmsnr\\_curve        & 0 &   1.677258 & 14.86015 & 10.5764867 & 127.3935796\\\\\n",
       "\t 3 & integrated\\_profile & 0 & 103.015625 & 39.34165 &  0.3233284 &   1.0511644\\\\\n",
       "\t ⋮ & ⋮ & ⋮ & ⋮ & ⋮ & ⋮ & ⋮\\\\\n",
       "\t 17896 & dmsnr\\_curve        & 0 &  21.430602 & 58.87200 &  2.4995171 &   4.59517265\\\\\n",
       "\t 17897 & integrated\\_profile & 0 & 114.507812 & 53.90240 &  0.2011614 &  -0.02478884\\\\\n",
       "\t 17897 & dmsnr\\_curve        & 0 &   1.946488 & 13.38173 & 10.0079673 & 134.23890950\\\\\n",
       "\t 17898 & integrated\\_profile & 0 &  57.062500 & 85.79734 &  1.4063910 &   0.08951971\\\\\n",
       "\t 17898 & dmsnr\\_curve        & 0 & 188.306020 & 64.71256 & -1.5975266 &   1.42947536\\\\\n",
       "\\end{tabular}\n"
      ],
      "text/markdown": [
       "\n",
       "A data.frame: 35796 × 7\n",
       "\n",
       "| id &lt;fct&gt; | type &lt;fct&gt; | class &lt;fct&gt; | mean &lt;dbl&gt; | standard_deviation &lt;dbl&gt; | excess_kurtosis &lt;dbl&gt; | skewness &lt;dbl&gt; |\n",
       "|---|---|---|---|---|---|---|\n",
       "| 1 | integrated_profile | 0 | 140.562500 | 55.68378 | -0.2345714 |  -0.6996484 |\n",
       "| 1 | dmsnr_curve        | 0 |   3.199833 | 19.11043 |  7.9755318 |  74.2422249 |\n",
       "| 2 | integrated_profile | 0 | 102.507812 | 58.88243 |  0.4653182 |  -0.5150879 |\n",
       "| 2 | dmsnr_curve        | 0 |   1.677258 | 14.86015 | 10.5764867 | 127.3935796 |\n",
       "| 3 | integrated_profile | 0 | 103.015625 | 39.34165 |  0.3233284 |   1.0511644 |\n",
       "| ⋮ | ⋮ | ⋮ | ⋮ | ⋮ | ⋮ | ⋮ |\n",
       "| 17896 | dmsnr_curve        | 0 |  21.430602 | 58.87200 |  2.4995171 |   4.59517265 |\n",
       "| 17897 | integrated_profile | 0 | 114.507812 | 53.90240 |  0.2011614 |  -0.02478884 |\n",
       "| 17897 | dmsnr_curve        | 0 |   1.946488 | 13.38173 | 10.0079673 | 134.23890950 |\n",
       "| 17898 | integrated_profile | 0 |  57.062500 | 85.79734 |  1.4063910 |   0.08951971 |\n",
       "| 17898 | dmsnr_curve        | 0 | 188.306020 | 64.71256 | -1.5975266 |   1.42947536 |\n",
       "\n"
      ],
      "text/plain": [
       "      id    type               class mean       standard_deviation\n",
       "1     1     integrated_profile 0     140.562500 55.68378          \n",
       "2     1     dmsnr_curve        0       3.199833 19.11043          \n",
       "3     2     integrated_profile 0     102.507812 58.88243          \n",
       "4     2     dmsnr_curve        0       1.677258 14.86015          \n",
       "5     3     integrated_profile 0     103.015625 39.34165          \n",
       "⋮     ⋮     ⋮                  ⋮     ⋮          ⋮                 \n",
       "35792 17896 dmsnr_curve        0      21.430602 58.87200          \n",
       "35793 17897 integrated_profile 0     114.507812 53.90240          \n",
       "35794 17897 dmsnr_curve        0       1.946488 13.38173          \n",
       "35795 17898 integrated_profile 0      57.062500 85.79734          \n",
       "35796 17898 dmsnr_curve        0     188.306020 64.71256          \n",
       "      excess_kurtosis skewness    \n",
       "1     -0.2345714       -0.6996484 \n",
       "2      7.9755318       74.2422249 \n",
       "3      0.4653182       -0.5150879 \n",
       "4     10.5764867      127.3935796 \n",
       "5      0.3233284        1.0511644 \n",
       "⋮     ⋮               ⋮           \n",
       "35792  2.4995171        4.59517265\n",
       "35793  0.2011614       -0.02478884\n",
       "35794 10.0079673      134.23890950\n",
       "35795  1.4063910        0.08951971\n",
       "35796 -1.5975266        1.42947536"
      ]
     },
     "metadata": {},
     "output_type": "display_data"
    }
   ],
   "source": [
    "# Reading and tidying the dataset.\n",
    "pulsar_data <- read_csv(\"data/HTRU_2.csv\", col_names = FALSE) |> # Read the CSV file\n",
    "    # Add column names:\n",
    "    rename(mean_intp = X1, \n",
    "           std_dev_intp = X2, \n",
    "           xs_kurtosis_intp = X3, \n",
    "           skewness_intp = X4, \n",
    "           mean_dmsnr = X5, \n",
    "           std_dev_dmsnr = X6, \n",
    "           xs_kurtosis_dmsnr = X7, \n",
    "           skewness_dmsnr = X8, \n",
    "           class = X9) |>\n",
    "    tibble::rowid_to_column('id') |> # Adds an id to each individual pulsar star candidate.\n",
    "    mutate(class = as_factor(class), id = as_factor(id)) |> # Change class from dbl to factor (category) as these are categorial variables.\n",
    "    select(id, class, everything()) # Reorder class as the first column in the table for organization purposes.\n",
    "   \n",
    "# Tidy the data by making intp and dmsnr an categorial observation of the variable \"type\":\n",
    "pulsar_data_mean <- pulsar_data |> pivot_longer(starts_with(\"mean\"), names_to = \"type\", values_to = \"mean\") |>\n",
    "    mutate(type = as_factor(case_when(endsWith(type, \"dmsnr\") == TRUE ~ \"dmsnr_curve\",\n",
    "                                      endsWith(type, \"intp\") == TRUE ~ \"integrated_profile\"))) |> #rename mean_intp and mean_dmsnr to integrated_profile or dmsnr_curve as they're a category of the variable \"type\".\n",
    "    select(id, type, class, mean)\n",
    "\n",
    "pulsar_data_std_dev <- pulsar_data |> pivot_longer(starts_with(\"std_dev\"), names_to = \"type\", values_to = \"std_dev\") |>\n",
    "    mutate(type = as_factor(case_when(endsWith(type, \"dmsnr\") == TRUE ~ \"dmsnr_curve\",\n",
    "                                      endsWith(type, \"intp\") == TRUE ~ \"integrated_profile\"))) |> #rename std_dev_intp and std_dev_dmsnr to integrated_profile and dmsnr_curve as they're a category of the variable \"type\".\n",
    "    select(std_dev) # does not include id, type, or class to avoid duplicate columns when cbind.\n",
    "\n",
    "pulsar_data_xs_kurtosis <- pulsar_data |> pivot_longer(starts_with(\"xs_kurtosis\"), names_to = \"type\", values_to = \"xs_kurtosis\") |>\n",
    "    mutate(type = as_factor(case_when(endsWith(type, \"dmsnr\") == TRUE ~ \"dmsnr_curve\",\n",
    "                                      endsWith(type, \"intp\") == TRUE ~ \"integrated_profile\"))) |> # rename xs_kurtosis_intp and xs_kurtosis_dmsnr to integrated_profile and dmsnr_curve as they're a category of the variable \"type\".\n",
    "    select(xs_kurtosis) # does not include id, type, or class to avoid duplicate columns when cbind.\n",
    "\n",
    "pulsar_data_skewness <- pulsar_data |> pivot_longer(starts_with(\"skewness\"), names_to = \"type\", values_to = \"skewness\") |>\n",
    "    mutate(type = as_factor(case_when(endsWith(type, \"dmsnr\") == TRUE ~ \"dmsnr_curve\",\n",
    "                                      endsWith(type, \"intp\") == TRUE ~ \"integrated_profile\"))) |> # rename skewness_intp and skewness_dmsnr to integrated_profile and dmsnr_curve as they're a category of the variable \"type\".\n",
    "    select(skewness) # does not include id, type, or class to avoid duplicate columns when cbind.\n",
    "    \n",
    "\n",
    "pulsar_data <- cbind(pulsar_data_mean, pulsar_data_std_dev, pulsar_data_xs_kurtosis, pulsar_data_skewness) |> # combine all tidied pivoted data into one dataframe.\n",
    "        rename(excess_kurtosis = xs_kurtosis, standard_deviation = std_dev) # expand abbreviations for clarity.\n",
    "\n",
    "options(repr.matrix.max.rows = 10) # Shows a maximum of 10 rows to reduce clutter when calling the dataset.\n",
    "pulsar_data # display the dataframe as a table"
   ]
  },
  {
   "cell_type": "markdown",
   "id": "b199bcb4-7824-4c87-8073-91132e9b3deb",
   "metadata": {},
   "source": [
    "We expect to find that we should be able to get a prediction of whether or not a candidate is a pulsar or not. This will be done by taking all the other variables into the recipe.\n",
    "\n",
    "Using this prediction, we would be able to predict if newly discovered stars are pulsars, given that the data we collect is part of our prediction model. To test this in future cases, we could take a newly discovered star and run it against our prediction model.\n",
    "\n",
    "This could lead to further questions such as:\n",
    "\n",
    "- What’s the minimum/maximum DM-SNR curve for a certain star for it to no longer be considered a pulsar?\n",
    "- What is the average skewness of a pulsar? And for non-pulsars?"
   ]
  },
  {
   "cell_type": "code",
   "execution_count": null,
   "id": "cb60a410-1f83-42e7-b355-9188b880c5ab",
   "metadata": {},
   "outputs": [],
   "source": []
  }
 ],
 "metadata": {
  "kernelspec": {
   "display_name": "R",
   "language": "R",
   "name": "ir"
  },
  "language_info": {
   "codemirror_mode": "r",
   "file_extension": ".r",
   "mimetype": "text/x-r-source",
   "name": "R",
   "pygments_lexer": "r",
   "version": "4.1.3"
  }
 },
 "nbformat": 4,
 "nbformat_minor": 5
}
