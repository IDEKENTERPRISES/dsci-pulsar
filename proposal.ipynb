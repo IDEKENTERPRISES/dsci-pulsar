{
 "cells": [
  {
   "cell_type": "markdown",
   "id": "7a54999a-2ad7-403d-9f74-ab268fb263fc",
   "metadata": {},
   "source": [
    "# Introduction\n",
    "\n",
    "Pulsars emit two beams of light in opposite directions. Although the beam's light is steady, pulsars appear to flicker because they rotate.  As the pulsar rotates, the light beam may sweep over the Earth, swinging in and out of view, creating the impression that the pulsar is blinking to an astronomer.\n",
    "\n",
    "Because pulsars are important space objects that allow scientists to study extreme states of matter and cosmic events, it would be great if we had a system to predict whether a particular space object is a pulsar. Therefore, can we use the information from the data set to create a model that can predict a pulsar star?\n",
    "\n",
    "The data set contains nine columns. Eight continuous variables and one class variable. The first four variables are statistics derived from a pulsar’s integrated pulse profile, which are unique to a pulsar, whereas the latter four are derived from the DM-SNR (Dispersion Measure of Signal Noise Ratio).\n",
    "\n"
   ]
  },
  {
   "cell_type": "code",
   "execution_count": 19,
   "id": "09bd97da-5672-4378-b45a-25bcad94d864",
   "metadata": {},
   "outputs": [
    {
     "name": "stderr",
     "output_type": "stream",
     "text": [
      "\u001b[1mRows: \u001b[22m\u001b[34m17898\u001b[39m \u001b[1mColumns: \u001b[22m\u001b[34m9\u001b[39m\n",
      "\u001b[36m──\u001b[39m \u001b[1mColumn specification\u001b[22m \u001b[36m────────────────────────────────────────────────────────\u001b[39m\n",
      "\u001b[1mDelimiter:\u001b[22m \",\"\n",
      "\u001b[32mdbl\u001b[39m (9): X1, X2, X3, X4, X5, X6, X7, X8, X9\n",
      "\n",
      "\u001b[36mℹ\u001b[39m Use `spec()` to retrieve the full column specification for this data.\n",
      "\u001b[36mℹ\u001b[39m Specify the column types or set `show_col_types = FALSE` to quiet this message.\n"
     ]
    }
   ],
   "source": [
    "# Load libraries into R:\n",
    "library(tidyverse)\n",
    "library(dplyr)\n",
    "\n",
    "# Read and tidy dataset:\n",
    "pulsar_data <- read_csv(\"data/HTRU_2.csv\", col_names = FALSE) |>\n",
    "    # Add column names:\n",
    "    rename(mean_int = X1, \n",
    "           std_dev_int = X2, \n",
    "           xs_kurtosis_int = X3, \n",
    "           skewness_int = X4, \n",
    "           mean_dmsnr = X5, \n",
    "           std_dev_dmsnr = X6, \n",
    "           xs_kurtosis_dmsnr = X7, \n",
    "           skewness_dmsnr = X8, \n",
    "           class = X9) |>\n",
    "    mutate(class = as_factor(class)) |> # Change class from dbl to factor (category).\n",
    "    select(class, everything()) # Reorder class as the first column in the table. For organization purposes.\n"
   ]
  },
  {
   "cell_type": "markdown",
   "id": "b199bcb4-7824-4c87-8073-91132e9b3deb",
   "metadata": {},
   "source": [
    "We expect to find that we should be able to get a prediction of whether or not a candidate is a pulsar or not. This will be done by taking all the other variables into the recipe.\n",
    "\n",
    "Using this prediction, we would be able to predict if newly discovered stars are pulsars, given that the data we collect is part of our prediction model. To test this in future cases, we could take a newly discovered star and run it against our prediction model.\n",
    "\n",
    "This could lead to further questions such as:\n",
    "\n",
    "- What’s the minimum/maximum DM-SNR curve for a certain star for it to no longer be considered a pulsar?\n",
    "- What is the average skewness of a pulsar? And for non-pulsars?"
   ]
  },
  {
   "cell_type": "code",
   "execution_count": null,
   "id": "cb60a410-1f83-42e7-b355-9188b880c5ab",
   "metadata": {},
   "outputs": [],
   "source": []
  }
 ],
 "metadata": {
  "kernelspec": {
   "display_name": "R",
   "language": "R",
   "name": "ir"
  },
  "language_info": {
   "codemirror_mode": "r",
   "file_extension": ".r",
   "mimetype": "text/x-r-source",
   "name": "R",
   "pygments_lexer": "r",
   "version": "4.1.3"
  }
 },
 "nbformat": 4,
 "nbformat_minor": 5
}
