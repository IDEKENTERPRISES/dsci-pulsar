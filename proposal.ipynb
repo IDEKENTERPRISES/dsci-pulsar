{
 "cells": [
  {
   "cell_type": "code",
   "execution_count": 6,
   "id": "92cf49ef-125c-4edf-bcd3-21786a8ec09d",
   "metadata": {},
   "outputs": [
    {
     "ename": "ERROR",
     "evalue": "Error in library(tidymodels): there is no package called ‘tidymodels’\n",
     "output_type": "error",
     "traceback": [
      "Error in library(tidymodels): there is no package called ‘tidymodels’\nTraceback:\n",
      "1. library(tidymodels)"
     ]
    }
   ],
   "source": [
    "# Loading the necessary libraries:\n",
    "library(tidyverse)\n",
    "library(dplyr)\n",
    "library(tidymodels)"
   ]
  },
  {
   "cell_type": "markdown",
   "id": "7a54999a-2ad7-403d-9f74-ab268fb263fc",
   "metadata": {},
   "source": [
    "# Introduction\n",
    "\n",
    "Pulsars emit two beams of light in opposite directions. Although the beam's light is steady, pulsars appear to flicker because they rotate.  As the pulsar rotates, the light beam may sweep over the Earth, swinging in and out of view, creating the impression that the pulsar is blinking to an astronomer.\n",
    "\n",
    "Because pulsars are important space objects that allow scientists to study extreme states of matter and cosmic events, it would be great if we had a system to predict whether a particular space object is a pulsar. Therefore, can we use the information from the data set to create a model that can predict a pulsar star?\n",
    "\n",
    "The data set contains nine columns. Eight continuous variables and one class variable. The first four variables are statistics derived from a pulsar’s integrated pulse profile, which are unique to a pulsar, whereas the latter four are derived from the DM-SNR (Dispersion Measure of Signal Noise Ratio).\n",
    "\n"
   ]
  },
  {
   "cell_type": "code",
   "execution_count": 8,
   "id": "09bd97da-5672-4378-b45a-25bcad94d864",
   "metadata": {},
   "outputs": [
    {
     "name": "stderr",
     "output_type": "stream",
     "text": [
      "\u001b[1mRows: \u001b[22m\u001b[34m17898\u001b[39m \u001b[1mColumns: \u001b[22m\u001b[34m9\u001b[39m\n",
      "\u001b[36m──\u001b[39m \u001b[1mColumn specification\u001b[22m \u001b[36m────────────────────────────────────────────────────────\u001b[39m\n",
      "\u001b[1mDelimiter:\u001b[22m \",\"\n",
      "\u001b[32mdbl\u001b[39m (9): X1, X2, X3, X4, X5, X6, X7, X8, X9\n",
      "\n",
      "\u001b[36mℹ\u001b[39m Use `spec()` to retrieve the full column specification for this data.\n",
      "\u001b[36mℹ\u001b[39m Specify the column types or set `show_col_types = FALSE` to quiet this message.\n"
     ]
    },
    {
     "data": {
      "text/html": [
       "<table class=\"dataframe\">\n",
       "<caption>A tibble: 17898 × 10</caption>\n",
       "<thead>\n",
       "\t<tr><th scope=col>id</th><th scope=col>class</th><th scope=col>mean_intp</th><th scope=col>std_dev_intp</th><th scope=col>xs_kurtosis_intp</th><th scope=col>skewness_intp</th><th scope=col>mean_dmsnr</th><th scope=col>std_dev_dmsnr</th><th scope=col>xs_kurtosis_dmsnr</th><th scope=col>skewness_dmsnr</th></tr>\n",
       "\t<tr><th scope=col>&lt;fct&gt;</th><th scope=col>&lt;chr&gt;</th><th scope=col>&lt;dbl&gt;</th><th scope=col>&lt;dbl&gt;</th><th scope=col>&lt;dbl&gt;</th><th scope=col>&lt;dbl&gt;</th><th scope=col>&lt;dbl&gt;</th><th scope=col>&lt;dbl&gt;</th><th scope=col>&lt;dbl&gt;</th><th scope=col>&lt;dbl&gt;</th></tr>\n",
       "</thead>\n",
       "<tbody>\n",
       "\t<tr><td>1</td><td>non_pulsar</td><td>140.56250</td><td>55.68378</td><td>-0.23457141</td><td>-0.6996484</td><td>3.199833</td><td>19.11043</td><td> 7.975532</td><td> 74.24222</td></tr>\n",
       "\t<tr><td>2</td><td>non_pulsar</td><td>102.50781</td><td>58.88243</td><td> 0.46531815</td><td>-0.5150879</td><td>1.677258</td><td>14.86015</td><td>10.576487</td><td>127.39358</td></tr>\n",
       "\t<tr><td>3</td><td>non_pulsar</td><td>103.01562</td><td>39.34165</td><td> 0.32332837</td><td> 1.0511644</td><td>3.121237</td><td>21.74467</td><td> 7.735822</td><td> 63.17191</td></tr>\n",
       "\t<tr><td>4</td><td>non_pulsar</td><td>136.75000</td><td>57.17845</td><td>-0.06841464</td><td>-0.6362384</td><td>3.642977</td><td>20.95928</td><td> 6.896499</td><td> 53.59366</td></tr>\n",
       "\t<tr><td>5</td><td>non_pulsar</td><td> 88.72656</td><td>40.67223</td><td> 0.60086608</td><td> 1.1234917</td><td>1.178930</td><td>11.46872</td><td>14.269573</td><td>252.56731</td></tr>\n",
       "\t<tr><td>⋮</td><td>⋮</td><td>⋮</td><td>⋮</td><td>⋮</td><td>⋮</td><td>⋮</td><td>⋮</td><td>⋮</td><td>⋮</td></tr>\n",
       "\t<tr><td>17894</td><td>non_pulsar</td><td>136.4297</td><td>59.84742</td><td>-0.1878456</td><td>-0.73812297</td><td>  1.296823</td><td>12.16606</td><td>15.450260</td><td>285.931022</td></tr>\n",
       "\t<tr><td>17895</td><td>non_pulsar</td><td>122.5547</td><td>49.48561</td><td> 0.1279781</td><td> 0.32306090</td><td> 16.409699</td><td>44.62689</td><td> 2.945244</td><td>  8.297092</td></tr>\n",
       "\t<tr><td>17896</td><td>non_pulsar</td><td>119.3359</td><td>59.93594</td><td> 0.1593631</td><td>-0.74302540</td><td> 21.430602</td><td>58.87200</td><td> 2.499517</td><td>  4.595173</td></tr>\n",
       "\t<tr><td>17897</td><td>non_pulsar</td><td>114.5078</td><td>53.90240</td><td> 0.2011614</td><td>-0.02478884</td><td>  1.946488</td><td>13.38173</td><td>10.007967</td><td>134.238910</td></tr>\n",
       "\t<tr><td>17898</td><td>non_pulsar</td><td> 57.0625</td><td>85.79734</td><td> 1.4063910</td><td> 0.08951971</td><td>188.306020</td><td>64.71256</td><td>-1.597527</td><td>  1.429475</td></tr>\n",
       "</tbody>\n",
       "</table>\n"
      ],
      "text/latex": [
       "A tibble: 17898 × 10\n",
       "\\begin{tabular}{llllllllll}\n",
       " id & class & mean\\_intp & std\\_dev\\_intp & xs\\_kurtosis\\_intp & skewness\\_intp & mean\\_dmsnr & std\\_dev\\_dmsnr & xs\\_kurtosis\\_dmsnr & skewness\\_dmsnr\\\\\n",
       " <fct> & <chr> & <dbl> & <dbl> & <dbl> & <dbl> & <dbl> & <dbl> & <dbl> & <dbl>\\\\\n",
       "\\hline\n",
       "\t 1 & non\\_pulsar & 140.56250 & 55.68378 & -0.23457141 & -0.6996484 & 3.199833 & 19.11043 &  7.975532 &  74.24222\\\\\n",
       "\t 2 & non\\_pulsar & 102.50781 & 58.88243 &  0.46531815 & -0.5150879 & 1.677258 & 14.86015 & 10.576487 & 127.39358\\\\\n",
       "\t 3 & non\\_pulsar & 103.01562 & 39.34165 &  0.32332837 &  1.0511644 & 3.121237 & 21.74467 &  7.735822 &  63.17191\\\\\n",
       "\t 4 & non\\_pulsar & 136.75000 & 57.17845 & -0.06841464 & -0.6362384 & 3.642977 & 20.95928 &  6.896499 &  53.59366\\\\\n",
       "\t 5 & non\\_pulsar &  88.72656 & 40.67223 &  0.60086608 &  1.1234917 & 1.178930 & 11.46872 & 14.269573 & 252.56731\\\\\n",
       "\t ⋮ & ⋮ & ⋮ & ⋮ & ⋮ & ⋮ & ⋮ & ⋮ & ⋮ & ⋮\\\\\n",
       "\t 17894 & non\\_pulsar & 136.4297 & 59.84742 & -0.1878456 & -0.73812297 &   1.296823 & 12.16606 & 15.450260 & 285.931022\\\\\n",
       "\t 17895 & non\\_pulsar & 122.5547 & 49.48561 &  0.1279781 &  0.32306090 &  16.409699 & 44.62689 &  2.945244 &   8.297092\\\\\n",
       "\t 17896 & non\\_pulsar & 119.3359 & 59.93594 &  0.1593631 & -0.74302540 &  21.430602 & 58.87200 &  2.499517 &   4.595173\\\\\n",
       "\t 17897 & non\\_pulsar & 114.5078 & 53.90240 &  0.2011614 & -0.02478884 &   1.946488 & 13.38173 & 10.007967 & 134.238910\\\\\n",
       "\t 17898 & non\\_pulsar &  57.0625 & 85.79734 &  1.4063910 &  0.08951971 & 188.306020 & 64.71256 & -1.597527 &   1.429475\\\\\n",
       "\\end{tabular}\n"
      ],
      "text/markdown": [
       "\n",
       "A tibble: 17898 × 10\n",
       "\n",
       "| id &lt;fct&gt; | class &lt;chr&gt; | mean_intp &lt;dbl&gt; | std_dev_intp &lt;dbl&gt; | xs_kurtosis_intp &lt;dbl&gt; | skewness_intp &lt;dbl&gt; | mean_dmsnr &lt;dbl&gt; | std_dev_dmsnr &lt;dbl&gt; | xs_kurtosis_dmsnr &lt;dbl&gt; | skewness_dmsnr &lt;dbl&gt; |\n",
       "|---|---|---|---|---|---|---|---|---|---|\n",
       "| 1 | non_pulsar | 140.56250 | 55.68378 | -0.23457141 | -0.6996484 | 3.199833 | 19.11043 |  7.975532 |  74.24222 |\n",
       "| 2 | non_pulsar | 102.50781 | 58.88243 |  0.46531815 | -0.5150879 | 1.677258 | 14.86015 | 10.576487 | 127.39358 |\n",
       "| 3 | non_pulsar | 103.01562 | 39.34165 |  0.32332837 |  1.0511644 | 3.121237 | 21.74467 |  7.735822 |  63.17191 |\n",
       "| 4 | non_pulsar | 136.75000 | 57.17845 | -0.06841464 | -0.6362384 | 3.642977 | 20.95928 |  6.896499 |  53.59366 |\n",
       "| 5 | non_pulsar |  88.72656 | 40.67223 |  0.60086608 |  1.1234917 | 1.178930 | 11.46872 | 14.269573 | 252.56731 |\n",
       "| ⋮ | ⋮ | ⋮ | ⋮ | ⋮ | ⋮ | ⋮ | ⋮ | ⋮ | ⋮ |\n",
       "| 17894 | non_pulsar | 136.4297 | 59.84742 | -0.1878456 | -0.73812297 |   1.296823 | 12.16606 | 15.450260 | 285.931022 |\n",
       "| 17895 | non_pulsar | 122.5547 | 49.48561 |  0.1279781 |  0.32306090 |  16.409699 | 44.62689 |  2.945244 |   8.297092 |\n",
       "| 17896 | non_pulsar | 119.3359 | 59.93594 |  0.1593631 | -0.74302540 |  21.430602 | 58.87200 |  2.499517 |   4.595173 |\n",
       "| 17897 | non_pulsar | 114.5078 | 53.90240 |  0.2011614 | -0.02478884 |   1.946488 | 13.38173 | 10.007967 | 134.238910 |\n",
       "| 17898 | non_pulsar |  57.0625 | 85.79734 |  1.4063910 |  0.08951971 | 188.306020 | 64.71256 | -1.597527 |   1.429475 |\n",
       "\n"
      ],
      "text/plain": [
       "      id    class      mean_intp std_dev_intp xs_kurtosis_intp skewness_intp\n",
       "1     1     non_pulsar 140.56250 55.68378     -0.23457141      -0.6996484   \n",
       "2     2     non_pulsar 102.50781 58.88243      0.46531815      -0.5150879   \n",
       "3     3     non_pulsar 103.01562 39.34165      0.32332837       1.0511644   \n",
       "4     4     non_pulsar 136.75000 57.17845     -0.06841464      -0.6362384   \n",
       "5     5     non_pulsar  88.72656 40.67223      0.60086608       1.1234917   \n",
       "⋮     ⋮     ⋮          ⋮         ⋮            ⋮                ⋮            \n",
       "17894 17894 non_pulsar 136.4297  59.84742     -0.1878456       -0.73812297  \n",
       "17895 17895 non_pulsar 122.5547  49.48561      0.1279781        0.32306090  \n",
       "17896 17896 non_pulsar 119.3359  59.93594      0.1593631       -0.74302540  \n",
       "17897 17897 non_pulsar 114.5078  53.90240      0.2011614       -0.02478884  \n",
       "17898 17898 non_pulsar  57.0625  85.79734      1.4063910        0.08951971  \n",
       "      mean_dmsnr std_dev_dmsnr xs_kurtosis_dmsnr skewness_dmsnr\n",
       "1     3.199833   19.11043       7.975532          74.24222     \n",
       "2     1.677258   14.86015      10.576487         127.39358     \n",
       "3     3.121237   21.74467       7.735822          63.17191     \n",
       "4     3.642977   20.95928       6.896499          53.59366     \n",
       "5     1.178930   11.46872      14.269573         252.56731     \n",
       "⋮     ⋮          ⋮             ⋮                 ⋮             \n",
       "17894   1.296823 12.16606      15.450260         285.931022    \n",
       "17895  16.409699 44.62689       2.945244           8.297092    \n",
       "17896  21.430602 58.87200       2.499517           4.595173    \n",
       "17897   1.946488 13.38173      10.007967         134.238910    \n",
       "17898 188.306020 64.71256      -1.597527           1.429475    "
      ]
     },
     "metadata": {},
     "output_type": "display_data"
    },
    {
     "ename": "ERROR",
     "evalue": "Error in inherits(f, \"formula\"): argument \"f\" is missing, with no default\n",
     "output_type": "error",
     "traceback": [
      "Error in inherits(f, \"formula\"): argument \"f\" is missing, with no default\nTraceback:\n",
      "1. split(pulsar_data)",
      "2. split.data.frame(pulsar_data)"
     ]
    }
   ],
   "source": [
    "# Reading and tidying the dataset.\n",
    "pulsar_data <- read_csv(\"data/HTRU_2.csv\", col_names = FALSE) |> # Read the CSV file\n",
    "    # Add column names:\n",
    "    rename(mean_intp = X1, \n",
    "           std_dev_intp = X2, \n",
    "           xs_kurtosis_intp = X3, \n",
    "           skewness_intp = X4, \n",
    "           mean_dmsnr = X5, \n",
    "           std_dev_dmsnr = X6, \n",
    "           xs_kurtosis_dmsnr = X7, \n",
    "           skewness_dmsnr = X8, \n",
    "           class = X9) |>\n",
    "    tibble::rowid_to_column('id') |> # Adds an id to each individual pulsar star candidate.\n",
    "    mutate(class = as_factor(class), id = as_factor(id)) |> # Change class from dbl to factor (category) as these are categorial variables.\n",
    "    select(id, class, everything()) |> # Reorder class as the first column in the table for organization purposes.\n",
    "    mutate(class = case_when(class == 0 ~ \"non_pulsar\",\n",
    "                            class == 1 ~ \"pulsar\")) # Clarify the classes.\n",
    "\n",
    "options(repr.matrix.max.rows = 10) # Shows a maximum of 10 rows to reduce clutter when calling the dataset.\n",
    "pulsar_data # display the dataframe as a table\n",
    "\n",
    "split(pulsar_data)"
   ]
  },
  {
   "cell_type": "code",
   "execution_count": 21,
   "id": "1c159990-5134-4cc5-8f5c-c28836dd7dff",
   "metadata": {},
   "outputs": [],
   "source": [
    "# Creating the training dataset:\n",
    "\n",
    "set.seed(1234)\n",
    "\n",
    "pulsar_data_split <- pulsar_data |> initial_split(prop = 0.75, strata = class)\n",
    "pulsar_data_training <- pulsar_data_split |> training()"
   ]
  },
  {
   "cell_type": "markdown",
   "id": "b199bcb4-7824-4c87-8073-91132e9b3deb",
   "metadata": {},
   "source": [
    "We expect to find that we should be able to get a prediction of whether or not a candidate is a pulsar or not. This will be done by using all of the numerical variables into the recipe.\n",
    "\n",
    "Using this prediction, we would be able to predict if newly discovered stars are pulsars, given that the data we collect is part of our prediction model. We will take 75% of the above data frame to train our model while using the other 25% to test our model.\n",
    "\n",
    "This could lead to further questions such as:\n",
    "\n",
    "- What’s the minimum/maximum DM-SNR curve for a certain star for it to no longer be considered a pulsar?\n",
    "- What is the average skewness of a pulsar? And for non-pulsars?"
   ]
  }
 ],
 "metadata": {
  "kernelspec": {
   "display_name": "R",
   "language": "R",
   "name": "ir"
  },
  "language_info": {
   "codemirror_mode": "r",
   "file_extension": ".r",
   "mimetype": "text/x-r-source",
   "name": "R",
   "pygments_lexer": "r",
   "version": "4.1.3"
  }
 },
 "nbformat": 4,
 "nbformat_minor": 5
}
