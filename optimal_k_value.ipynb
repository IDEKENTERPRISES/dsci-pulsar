{
 "cells": [
  {
   "cell_type": "code",
   "execution_count": 2,
   "id": "0c8daab4-18e6-420c-8e59-46ed5bf0b34e",
   "metadata": {},
   "outputs": [
    {
     "name": "stderr",
     "output_type": "stream",
     "text": [
      "Updating HTML index of packages in '.Library'\n",
      "\n",
      "Making 'packages.html' ...\n",
      " done\n",
      "\n"
     ]
    }
   ],
   "source": [
    "library(repr)\n",
    "library(dplyr)\n",
    "library(tidyverse)\n",
    "library(tidymodels)\n",
    "install.packages(\"themis\")\n",
    "library(themis)\n",
    "options(repr.matrix.max.rows = 10)"
   ]
  },
  {
   "cell_type": "code",
   "execution_count": 16,
   "id": "0c938d02-cef6-41b4-af9e-4e32d1004c6d",
   "metadata": {},
   "outputs": [
    {
     "name": "stderr",
     "output_type": "stream",
     "text": [
      "\u001b[1mRows: \u001b[22m\u001b[34m17898\u001b[39m \u001b[1mColumns: \u001b[22m\u001b[34m9\u001b[39m\n",
      "\u001b[36m──\u001b[39m \u001b[1mColumn specification\u001b[22m \u001b[36m────────────────────────────────────────────────────────\u001b[39m\n",
      "\u001b[1mDelimiter:\u001b[22m \",\"\n",
      "\u001b[32mdbl\u001b[39m (9): X1, X2, X3, X4, X5, X6, X7, X8, X9\n",
      "\n",
      "\u001b[36mℹ\u001b[39m Use `spec()` to retrieve the full column specification for this data.\n",
      "\u001b[36mℹ\u001b[39m Specify the column types or set `show_col_types = FALSE` to quiet this message.\n"
     ]
    },
    {
     "data": {
      "text/html": [
       "5"
      ],
      "text/latex": [
       "5"
      ],
      "text/markdown": [
       "5"
      ],
      "text/plain": [
       "[1] 5"
      ]
     },
     "metadata": {},
     "output_type": "display_data"
    }
   ],
   "source": [
    "# Downloading the unscaled dataset from the web.\n",
    "pulsar_url <- \"https://archive.ics.uci.edu/ml/machine-learning-databases/00372/HTRU2.zip\"\n",
    "download.file(pulsar_url, \"HTRU2.zip\")\n",
    "unzip(\"HTRU2.zip\")\n",
    "\n",
    "# Reading and tidying the dataset.\n",
    "pulsar_data <- read_csv(\"HTRU_2.csv\", col_names = FALSE) |> \n",
    "    # Add column names:\n",
    "    rename(mean_intp = X1, \n",
    "           std_dev_intp = X2, \n",
    "           xs_kurtosis_intp = X3, \n",
    "           skewness_intp = X4, \n",
    "           mean_dmsnr = X5, \n",
    "           std_dev_dmsnr = X6, \n",
    "           xs_kurtosis_dmsnr = X7, \n",
    "           skewness_dmsnr = X8, \n",
    "           class = X9) |>\n",
    "    tibble::rowid_to_column('id') |> # Adds an id to each individual pulsar star candidate.\n",
    "    mutate(class = as_factor(class), id = as_factor(id)) |> # Change class from dbl to factor (category) as these are categorial variables.\n",
    "    select(id, class, everything()) |> # Reorder class as the first column in the table for organization purposes.\n",
    "    mutate(class = case_when(class == 0 ~ \"non_pulsar\",\n",
    "                            class == 1 ~ \"pulsar\")) # Clarify the classes.\n",
    "\n",
    "# Split data into training and testing data\n",
    "\n",
    "pulsar_data_split <- initial_split(pulsar_data, prop = 0.75, strata = class)\n",
    "pulsar_data_train <- training(pulsar_data_split)\n",
    "pulsar_data_testing <- testing(pulsar_data_split)\n",
    "\n",
    "# Balancing the classes\n",
    "\n",
    "ups_recipe <- recipe(class ~ ., data = pulsar_data_train) |>\n",
    "              step_upsample(class, over_ratio = 1, skip = FALSE) |>\n",
    "              prep()\n",
    "\n",
    "pulsar_data_training <- bake(ups_recipe, pulsar_data_train)\n",
    "\n",
    "# Create recipe with training data that centres and scales data\n",
    "\n",
    "pulsar_data_recipe <- recipe(class ~ mean_intp + std_dev_intp + xs_kurtosis_intp + skewness_intp + mean_dmsnr + std_dev_dmsnr +\n",
    "                                     xs_kurtosis_dmsnr + skewness_dmsnr, data = pulsar_data_training) |>\n",
    "                      step_scale(all_predictors()) |>\n",
    "                      step_center(all_predictors())\n",
    "\n",
    "# Create KNN model that sets neighbours to tune()\n",
    "\n",
    "pulsar_data_tune <- nearest_neighbor(weight_func = \"rectangular\", neighbors = tune()) |>\n",
    "                    set_engine(\"kknn\") |>\n",
    "                    set_mode(\"classification\")\n",
    "\n",
    "# Create cross validation using training data\n",
    "\n",
    "pulsar_data_vfold <- vfold_cv(pulsar_data_training, v = 5, strata = class)\n",
    "\n",
    "# Create workflow\n",
    "\n",
    "pulsar_data_results <- workflow() |>\n",
    "                       add_recipe(pulsar_data_recipe) |>\n",
    "                       add_model(pulsar_data_tune) |>\n",
    "                       tune_grid(resamples = pulsar_data_vfold, grid = 10) |>\n",
    "                       collect_metrics()\n",
    "\n",
    "pulsar_data_results <- pulsar_data_results |>\n",
    "                       filter(.metric == \"accuracy\") |>\n",
    "                       filter(mean == max(mean))\n",
    "\n",
    "pulsar_data_optimal_k <- pulsar_data_results |>\n",
    "                         select(n) |>\n",
    "                         pull()\n",
    "\n",
    "pulsar_data_optimal_k"
   ]
  },
  {
   "cell_type": "code",
   "execution_count": null,
   "id": "573bda59-b04d-417e-9988-8ff2f5b5b7ab",
   "metadata": {},
   "outputs": [],
   "source": []
  }
 ],
 "metadata": {
  "kernelspec": {
   "display_name": "R",
   "language": "R",
   "name": "ir"
  },
  "language_info": {
   "codemirror_mode": "r",
   "file_extension": ".r",
   "mimetype": "text/x-r-source",
   "name": "R",
   "pygments_lexer": "r",
   "version": "4.1.3"
  }
 },
 "nbformat": 4,
 "nbformat_minor": 5
}
