{
 "cells": [
  {
   "cell_type": "code",
   "execution_count": 1,
   "id": "0c8daab4-18e6-420c-8e59-46ed5bf0b34e",
   "metadata": {},
   "outputs": [
    {
     "name": "stderr",
     "output_type": "stream",
     "text": [
      "\n",
      "Attaching package: ‘dplyr’\n",
      "\n",
      "\n",
      "The following objects are masked from ‘package:stats’:\n",
      "\n",
      "    filter, lag\n",
      "\n",
      "\n",
      "The following objects are masked from ‘package:base’:\n",
      "\n",
      "    intersect, setdiff, setequal, union\n",
      "\n",
      "\n",
      "── \u001b[1mAttaching packages\u001b[22m ─────────────────────────────────────── tidyverse 1.3.1 ──\n",
      "\n",
      "\u001b[32m✔\u001b[39m \u001b[34mggplot2\u001b[39m 3.3.6     \u001b[32m✔\u001b[39m \u001b[34mpurrr  \u001b[39m 0.3.4\n",
      "\u001b[32m✔\u001b[39m \u001b[34mtibble \u001b[39m 3.1.7     \u001b[32m✔\u001b[39m \u001b[34mstringr\u001b[39m 1.4.0\n",
      "\u001b[32m✔\u001b[39m \u001b[34mtidyr  \u001b[39m 1.2.0     \u001b[32m✔\u001b[39m \u001b[34mforcats\u001b[39m 0.5.1\n",
      "\u001b[32m✔\u001b[39m \u001b[34mreadr  \u001b[39m 2.1.2     \n",
      "\n",
      "── \u001b[1mConflicts\u001b[22m ────────────────────────────────────────── tidyverse_conflicts() ──\n",
      "\u001b[31m✖\u001b[39m \u001b[34mdplyr\u001b[39m::\u001b[32mfilter()\u001b[39m masks \u001b[34mstats\u001b[39m::filter()\n",
      "\u001b[31m✖\u001b[39m \u001b[34mdplyr\u001b[39m::\u001b[32mlag()\u001b[39m    masks \u001b[34mstats\u001b[39m::lag()\n",
      "\n",
      "── \u001b[1mAttaching packages\u001b[22m ────────────────────────────────────── tidymodels 1.0.0 ──\n",
      "\n",
      "\u001b[32m✔\u001b[39m \u001b[34mbroom       \u001b[39m 1.0.0     \u001b[32m✔\u001b[39m \u001b[34mrsample     \u001b[39m 1.0.0\n",
      "\u001b[32m✔\u001b[39m \u001b[34mdials       \u001b[39m 1.0.0     \u001b[32m✔\u001b[39m \u001b[34mtune        \u001b[39m 1.0.0\n",
      "\u001b[32m✔\u001b[39m \u001b[34minfer       \u001b[39m 1.0.2     \u001b[32m✔\u001b[39m \u001b[34mworkflows   \u001b[39m 1.0.0\n",
      "\u001b[32m✔\u001b[39m \u001b[34mmodeldata   \u001b[39m 1.0.0     \u001b[32m✔\u001b[39m \u001b[34mworkflowsets\u001b[39m 1.0.0\n",
      "\u001b[32m✔\u001b[39m \u001b[34mparsnip     \u001b[39m 1.0.0     \u001b[32m✔\u001b[39m \u001b[34myardstick   \u001b[39m 1.0.0\n",
      "\u001b[32m✔\u001b[39m \u001b[34mrecipes     \u001b[39m 1.0.1     \n",
      "\n",
      "── \u001b[1mConflicts\u001b[22m ───────────────────────────────────────── tidymodels_conflicts() ──\n",
      "\u001b[31m✖\u001b[39m \u001b[34mscales\u001b[39m::\u001b[32mdiscard()\u001b[39m masks \u001b[34mpurrr\u001b[39m::discard()\n",
      "\u001b[31m✖\u001b[39m \u001b[34mdplyr\u001b[39m::\u001b[32mfilter()\u001b[39m   masks \u001b[34mstats\u001b[39m::filter()\n",
      "\u001b[31m✖\u001b[39m \u001b[34mrecipes\u001b[39m::\u001b[32mfixed()\u001b[39m  masks \u001b[34mstringr\u001b[39m::fixed()\n",
      "\u001b[31m✖\u001b[39m \u001b[34mdplyr\u001b[39m::\u001b[32mlag()\u001b[39m      masks \u001b[34mstats\u001b[39m::lag()\n",
      "\u001b[31m✖\u001b[39m \u001b[34myardstick\u001b[39m::\u001b[32mspec()\u001b[39m masks \u001b[34mreadr\u001b[39m::spec()\n",
      "\u001b[31m✖\u001b[39m \u001b[34mrecipes\u001b[39m::\u001b[32mstep()\u001b[39m   masks \u001b[34mstats\u001b[39m::step()\n",
      "\u001b[34m•\u001b[39m Search for functions across packages at \u001b[32mhttps://www.tidymodels.org/find/\u001b[39m\n",
      "\n",
      "also installing the dependencies ‘RANN’, ‘ROSE’\n",
      "\n",
      "\n",
      "Updating HTML index of packages in '.Library'\n",
      "\n",
      "Making 'packages.html' ...\n",
      " done\n",
      "\n"
     ]
    }
   ],
   "source": [
    "library(repr)\n",
    "library(dplyr)\n",
    "library(tidyverse)\n",
    "library(tidymodels)\n",
    "install.packages(\"themis\")\n",
    "library(themis)\n",
    "options(repr.matrix.max.rows = 10)"
   ]
  },
  {
   "cell_type": "code",
   "execution_count": 2,
   "id": "0c938d02-cef6-41b4-af9e-4e32d1004c6d",
   "metadata": {},
   "outputs": [
    {
     "name": "stderr",
     "output_type": "stream",
     "text": [
      "\u001b[1mRows: \u001b[22m\u001b[34m17898\u001b[39m \u001b[1mColumns: \u001b[22m\u001b[34m9\u001b[39m\n",
      "\u001b[36m──\u001b[39m \u001b[1mColumn specification\u001b[22m \u001b[36m────────────────────────────────────────────────────────\u001b[39m\n",
      "\u001b[1mDelimiter:\u001b[22m \",\"\n",
      "\u001b[32mdbl\u001b[39m (9): X1, X2, X3, X4, X5, X6, X7, X8, X9\n",
      "\n",
      "\u001b[36mℹ\u001b[39m Use `spec()` to retrieve the full column specification for this data.\n",
      "\u001b[36mℹ\u001b[39m Specify the column types or set `show_col_types = FALSE` to quiet this message.\n"
     ]
    }
   ],
   "source": [
    "# Downloading the unscaled dataset from the web.\n",
    "pulsar_url <- \"https://archive.ics.uci.edu/ml/machine-learning-databases/00372/HTRU2.zip\"\n",
    "download.file(pulsar_url, \"HTRU2.zip\")\n",
    "unzip(\"HTRU2.zip\")\n",
    "\n",
    "# Reading and tidying the dataset.\n",
    "pulsar_data <- read_csv(\"HTRU_2.csv\", col_names = FALSE) |> \n",
    "    # Add column names:\n",
    "    rename(mean_intp = X1, \n",
    "           std_dev_intp = X2, \n",
    "           xs_kurtosis_intp = X3, \n",
    "           skewness_intp = X4, \n",
    "           mean_dmsnr = X5, \n",
    "           std_dev_dmsnr = X6, \n",
    "           xs_kurtosis_dmsnr = X7, \n",
    "           skewness_dmsnr = X8, \n",
    "           class = X9) |>\n",
    "    tibble::rowid_to_column('id') |> # Adds an id to each individual pulsar star candidate.\n",
    "    mutate(class = as_factor(class), id = as_factor(id)) |> # Change class from dbl to factor (category) as these are categorial variables.\n",
    "    select(id, class, everything()) |> # Reorder class as the first column in the table for organization purposes.\n",
    "    mutate(class = case_when(class == 0 ~ \"non_pulsar\",\n",
    "                            class == 1 ~ \"pulsar\")) # Clarify the classes.\n",
    "\n"
   ]
  },
  {
   "cell_type": "code",
   "execution_count": 3,
   "id": "a3c98912-6a22-4b14-a5b8-3143e3d5a188",
   "metadata": {},
   "outputs": [],
   "source": [
    "# Split data into training and testing data\n",
    "\n",
    "pulsar_data_split <- initial_split(pulsar_data, prop = 0.75, strata = class)\n",
    "pulsar_data_train <- training(pulsar_data_split)\n",
    "pulsar_data_testing <- testing(pulsar_data_split)\n",
    "\n",
    "# Balancing the classes\n",
    "\n",
    "ups_recipe <- recipe(class ~ ., data = pulsar_data_train) |>\n",
    "              step_upsample(class, over_ratio = 1, skip = FALSE) |>\n",
    "              prep()\n",
    "\n",
    "pulsar_data_training <- bake(ups_recipe, pulsar_data_train)"
   ]
  },
  {
   "cell_type": "code",
   "execution_count": 4,
   "id": "94a4c2f0-6ec0-403e-b6ac-17818893ead1",
   "metadata": {},
   "outputs": [],
   "source": [
    "# Create recipe with training data that centres and scales data\n",
    "\n",
    "pulsar_data_recipe <- recipe(class ~ mean_intp + std_dev_intp + xs_kurtosis_intp + skewness_intp + mean_dmsnr + std_dev_dmsnr +\n",
    "                                     xs_kurtosis_dmsnr + skewness_dmsnr, data = pulsar_data_training) |>\n",
    "                      step_scale(all_predictors()) |>\n",
    "                      step_center(all_predictors())\n"
   ]
  },
  {
   "cell_type": "code",
   "execution_count": 5,
   "id": "c9f23ec2-a1e5-49ed-b691-b7fe37c228b2",
   "metadata": {},
   "outputs": [],
   "source": [
    "# Create KNN model that sets neighbours to tune()\n",
    "\n",
    "pulsar_data_tune <- nearest_neighbor(weight_func = \"rectangular\", neighbors = tune()) |>\n",
    "                    set_engine(\"kknn\") |>\n",
    "                    set_mode(\"classification\")"
   ]
  },
  {
   "cell_type": "code",
   "execution_count": 6,
   "id": "ef55a200-c615-497a-9e87-e2103810b4ab",
   "metadata": {},
   "outputs": [],
   "source": [
    "# Create cross validation using training data\n",
    "\n",
    "pulsar_data_vfold <- vfold_cv(pulsar_data_training, v = 5, strata = class)\n"
   ]
  },
  {
   "cell_type": "code",
   "execution_count": 7,
   "id": "bfdfbc64-8d30-4534-a0f5-864d81656577",
   "metadata": {},
   "outputs": [],
   "source": [
    "# Create workflow\n",
    "\n",
    "grid_vals <- tibble(neighbors = 1:10)\n",
    "\n",
    "pulsar_data_results <- workflow() |>\n",
    "                       add_recipe(pulsar_data_recipe) |>\n",
    "                       add_model(pulsar_data_tune) |>\n",
    "                       tune_grid(resamples = pulsar_data_vfold, grid = grid_vals) |>\n",
    "                       collect_metrics()"
   ]
  },
  {
   "cell_type": "code",
   "execution_count": 8,
   "id": "362ecfed-74ea-4482-8ab0-f2a56cb5212c",
   "metadata": {},
   "outputs": [
    {
     "data": {
      "text/html": [
       "<table class=\"dataframe\">\n",
       "<caption>A tibble: 10 × 7</caption>\n",
       "<thead>\n",
       "\t<tr><th scope=col>neighbors</th><th scope=col>.metric</th><th scope=col>.estimator</th><th scope=col>mean</th><th scope=col>n</th><th scope=col>std_err</th><th scope=col>.config</th></tr>\n",
       "\t<tr><th scope=col>&lt;int&gt;</th><th scope=col>&lt;chr&gt;</th><th scope=col>&lt;chr&gt;</th><th scope=col>&lt;dbl&gt;</th><th scope=col>&lt;int&gt;</th><th scope=col>&lt;dbl&gt;</th><th scope=col>&lt;chr&gt;</th></tr>\n",
       "</thead>\n",
       "<tbody>\n",
       "\t<tr><td> 1</td><td>accuracy</td><td>binary</td><td>0.9901607</td><td>5</td><td>0.0008722963</td><td>Preprocessor1_Model01</td></tr>\n",
       "\t<tr><td> 2</td><td>accuracy</td><td>binary</td><td>0.9901607</td><td>5</td><td>0.0008722963</td><td>Preprocessor1_Model02</td></tr>\n",
       "\t<tr><td> 3</td><td>accuracy</td><td>binary</td><td>0.9833961</td><td>5</td><td>0.0013554281</td><td>Preprocessor1_Model03</td></tr>\n",
       "\t<tr><td> 4</td><td>accuracy</td><td>binary</td><td>0.9833961</td><td>5</td><td>0.0013554281</td><td>Preprocessor1_Model04</td></tr>\n",
       "\t<tr><td> 5</td><td>accuracy</td><td>binary</td><td>0.9762626</td><td>5</td><td>0.0012878670</td><td>Preprocessor1_Model05</td></tr>\n",
       "\t<tr><td> 6</td><td>accuracy</td><td>binary</td><td>0.9762626</td><td>5</td><td>0.0012878670</td><td>Preprocessor1_Model06</td></tr>\n",
       "\t<tr><td> 7</td><td>accuracy</td><td>binary</td><td>0.9694981</td><td>5</td><td>0.0010099023</td><td>Preprocessor1_Model07</td></tr>\n",
       "\t<tr><td> 8</td><td>accuracy</td><td>binary</td><td>0.9694981</td><td>5</td><td>0.0010099023</td><td>Preprocessor1_Model08</td></tr>\n",
       "\t<tr><td> 9</td><td>accuracy</td><td>binary</td><td>0.9624466</td><td>5</td><td>0.0009067448</td><td>Preprocessor1_Model09</td></tr>\n",
       "\t<tr><td>10</td><td>accuracy</td><td>binary</td><td>0.9624466</td><td>5</td><td>0.0009067448</td><td>Preprocessor1_Model10</td></tr>\n",
       "</tbody>\n",
       "</table>\n"
      ],
      "text/latex": [
       "A tibble: 10 × 7\n",
       "\\begin{tabular}{lllllll}\n",
       " neighbors & .metric & .estimator & mean & n & std\\_err & .config\\\\\n",
       " <int> & <chr> & <chr> & <dbl> & <int> & <dbl> & <chr>\\\\\n",
       "\\hline\n",
       "\t  1 & accuracy & binary & 0.9901607 & 5 & 0.0008722963 & Preprocessor1\\_Model01\\\\\n",
       "\t  2 & accuracy & binary & 0.9901607 & 5 & 0.0008722963 & Preprocessor1\\_Model02\\\\\n",
       "\t  3 & accuracy & binary & 0.9833961 & 5 & 0.0013554281 & Preprocessor1\\_Model03\\\\\n",
       "\t  4 & accuracy & binary & 0.9833961 & 5 & 0.0013554281 & Preprocessor1\\_Model04\\\\\n",
       "\t  5 & accuracy & binary & 0.9762626 & 5 & 0.0012878670 & Preprocessor1\\_Model05\\\\\n",
       "\t  6 & accuracy & binary & 0.9762626 & 5 & 0.0012878670 & Preprocessor1\\_Model06\\\\\n",
       "\t  7 & accuracy & binary & 0.9694981 & 5 & 0.0010099023 & Preprocessor1\\_Model07\\\\\n",
       "\t  8 & accuracy & binary & 0.9694981 & 5 & 0.0010099023 & Preprocessor1\\_Model08\\\\\n",
       "\t  9 & accuracy & binary & 0.9624466 & 5 & 0.0009067448 & Preprocessor1\\_Model09\\\\\n",
       "\t 10 & accuracy & binary & 0.9624466 & 5 & 0.0009067448 & Preprocessor1\\_Model10\\\\\n",
       "\\end{tabular}\n"
      ],
      "text/markdown": [
       "\n",
       "A tibble: 10 × 7\n",
       "\n",
       "| neighbors &lt;int&gt; | .metric &lt;chr&gt; | .estimator &lt;chr&gt; | mean &lt;dbl&gt; | n &lt;int&gt; | std_err &lt;dbl&gt; | .config &lt;chr&gt; |\n",
       "|---|---|---|---|---|---|---|\n",
       "|  1 | accuracy | binary | 0.9901607 | 5 | 0.0008722963 | Preprocessor1_Model01 |\n",
       "|  2 | accuracy | binary | 0.9901607 | 5 | 0.0008722963 | Preprocessor1_Model02 |\n",
       "|  3 | accuracy | binary | 0.9833961 | 5 | 0.0013554281 | Preprocessor1_Model03 |\n",
       "|  4 | accuracy | binary | 0.9833961 | 5 | 0.0013554281 | Preprocessor1_Model04 |\n",
       "|  5 | accuracy | binary | 0.9762626 | 5 | 0.0012878670 | Preprocessor1_Model05 |\n",
       "|  6 | accuracy | binary | 0.9762626 | 5 | 0.0012878670 | Preprocessor1_Model06 |\n",
       "|  7 | accuracy | binary | 0.9694981 | 5 | 0.0010099023 | Preprocessor1_Model07 |\n",
       "|  8 | accuracy | binary | 0.9694981 | 5 | 0.0010099023 | Preprocessor1_Model08 |\n",
       "|  9 | accuracy | binary | 0.9624466 | 5 | 0.0009067448 | Preprocessor1_Model09 |\n",
       "| 10 | accuracy | binary | 0.9624466 | 5 | 0.0009067448 | Preprocessor1_Model10 |\n",
       "\n"
      ],
      "text/plain": [
       "   neighbors .metric  .estimator mean      n std_err      .config              \n",
       "1   1        accuracy binary     0.9901607 5 0.0008722963 Preprocessor1_Model01\n",
       "2   2        accuracy binary     0.9901607 5 0.0008722963 Preprocessor1_Model02\n",
       "3   3        accuracy binary     0.9833961 5 0.0013554281 Preprocessor1_Model03\n",
       "4   4        accuracy binary     0.9833961 5 0.0013554281 Preprocessor1_Model04\n",
       "5   5        accuracy binary     0.9762626 5 0.0012878670 Preprocessor1_Model05\n",
       "6   6        accuracy binary     0.9762626 5 0.0012878670 Preprocessor1_Model06\n",
       "7   7        accuracy binary     0.9694981 5 0.0010099023 Preprocessor1_Model07\n",
       "8   8        accuracy binary     0.9694981 5 0.0010099023 Preprocessor1_Model08\n",
       "9   9        accuracy binary     0.9624466 5 0.0009067448 Preprocessor1_Model09\n",
       "10 10        accuracy binary     0.9624466 5 0.0009067448 Preprocessor1_Model10"
      ]
     },
     "metadata": {},
     "output_type": "display_data"
    },
    {
     "data": {
      "text/html": [
       "<table class=\"dataframe\">\n",
       "<caption>A tibble: 2 × 1</caption>\n",
       "<thead>\n",
       "\t<tr><th scope=col>neighbors</th></tr>\n",
       "\t<tr><th scope=col>&lt;int&gt;</th></tr>\n",
       "</thead>\n",
       "<tbody>\n",
       "\t<tr><td>1</td></tr>\n",
       "\t<tr><td>2</td></tr>\n",
       "</tbody>\n",
       "</table>\n"
      ],
      "text/latex": [
       "A tibble: 2 × 1\n",
       "\\begin{tabular}{l}\n",
       " neighbors\\\\\n",
       " <int>\\\\\n",
       "\\hline\n",
       "\t 1\\\\\n",
       "\t 2\\\\\n",
       "\\end{tabular}\n"
      ],
      "text/markdown": [
       "\n",
       "A tibble: 2 × 1\n",
       "\n",
       "| neighbors &lt;int&gt; |\n",
       "|---|\n",
       "| 1 |\n",
       "| 2 |\n",
       "\n"
      ],
      "text/plain": [
       "  neighbors\n",
       "1 1        \n",
       "2 2        "
      ]
     },
     "metadata": {},
     "output_type": "display_data"
    }
   ],
   "source": [
    "pulsar_data_accuracy_results <- pulsar_data_results |>\n",
    "                       filter(.metric == \"accuracy\") # Filters to only the accuracy metric.\n",
    "\n",
    "pulsar_data_accuracy_results\n",
    "\n",
    "pulsar_data_optimal_k <- pulsar_data_accuracy_results |>\n",
    "                         filter(mean == max(mean)) |>\n",
    "                         select(neighbors) # Gets the optimal k-value.\n",
    "\n",
    "pulsar_data_optimal_k"
   ]
  },
  {
   "cell_type": "code",
   "execution_count": 9,
   "id": "e39b9e01-1fdd-404a-8393-f62e887f3568",
   "metadata": {},
   "outputs": [
    {
     "data": {
      "text/html": [
       "<table class=\"dataframe\">\n",
       "<caption>A tibble: 1 × 3</caption>\n",
       "<thead>\n",
       "\t<tr><th scope=col>.metric</th><th scope=col>.estimator</th><th scope=col>.estimate</th></tr>\n",
       "\t<tr><th scope=col>&lt;chr&gt;</th><th scope=col>&lt;chr&gt;</th><th scope=col>&lt;dbl&gt;</th></tr>\n",
       "</thead>\n",
       "<tbody>\n",
       "\t<tr><td>accuracy</td><td>binary</td><td>0.9705028</td></tr>\n",
       "</tbody>\n",
       "</table>\n"
      ],
      "text/latex": [
       "A tibble: 1 × 3\n",
       "\\begin{tabular}{lll}\n",
       " .metric & .estimator & .estimate\\\\\n",
       " <chr> & <chr> & <dbl>\\\\\n",
       "\\hline\n",
       "\t accuracy & binary & 0.9705028\\\\\n",
       "\\end{tabular}\n"
      ],
      "text/markdown": [
       "\n",
       "A tibble: 1 × 3\n",
       "\n",
       "| .metric &lt;chr&gt; | .estimator &lt;chr&gt; | .estimate &lt;dbl&gt; |\n",
       "|---|---|---|\n",
       "| accuracy | binary | 0.9705028 |\n",
       "\n"
      ],
      "text/plain": [
       "  .metric  .estimator .estimate\n",
       "1 accuracy binary     0.9705028"
      ]
     },
     "metadata": {},
     "output_type": "display_data"
    }
   ],
   "source": [
    "#using optimal K value to create the specification\n",
    "\n",
    "knn_specification <- nearest_neighbor(weight_func = \"rectangular\", neighbors = 1) |> \n",
    "                     set_engine(\"kknn\") |> \n",
    "                     set_mode(\"classification\")\n",
    "\n",
    "#using the same recipe in the workflow and fit into data training\n",
    "\n",
    "knn_fit <- workflow() |> \n",
    "                add_recipe(pulsar_data_recipe) |> \n",
    "                add_model(knn_specification) |> \n",
    "                fit(data = pulsar_data_training)\n",
    "\n",
    "#predicting\n",
    "knn_prediction <- predict(knn_fit, pulsar_data_testing) |> \n",
    "                  bind_cols(pulsar_data_testing)\n",
    "\n",
    "knn_prediction2 <- knn_prediction |>\n",
    "                   mutate(class = as_factor(class))\n",
    "\n",
    "knn_metrics <-  knn_prediction2 |> \n",
    "                metrics(truth = class, estimate = .pred_class) |>\n",
    "                filter(.metric == \"accuracy\")\n",
    "knn_metrics\n",
    "\n"
   ]
  },
  {
   "cell_type": "code",
   "execution_count": 10,
   "id": "61a518e9-b1a8-4adb-9928-2495fea3166c",
   "metadata": {},
   "outputs": [
    {
     "data": {
      "image/png": "[encoded data removed]",
      "text/plain": [
       "plot without title"
      ]
     },
     "metadata": {
      "image/png": {
       "height": 480,
       "width": 540
      }
     },
     "output_type": "display_data"
    }
   ],
   "source": [
    "options(repr.plot.width = 9, repr.plot.height = 8) # Resize the plot.\n",
    "\n",
    "# pulsar_data_results |>\n",
    "#     filter(.metric == \"accuracy\") # Uncomment this to show all accuracies in a table.\n",
    "\n",
    "pulsar_data_results_plot <- pulsar_data_results |>\n",
    "                filter(.metric == \"accuracy\") |>\n",
    "                select(neighbors, mean) |>\n",
    "                mutate(mean = mean*100) |> # Converts the accuracy from a decimal to a percentage.\n",
    "                ggplot(aes(x = neighbors, y = mean)) +\n",
    "                geom_line() + \n",
    "                geom_point() +\n",
    "                labs(x = \"K-Value\", \n",
    "                     y = \"Accuracy (%)\", \n",
    "                     title = \"K-Value vs. Accuracy Plot\", \n",
    "                     subtitle = \"An illustration of how the k-value affects the accuracy of our model.\") +\n",
    "                theme(text = element_text(size=20), \n",
    "                      plot.subtitle = element_text(size=15, hjust = 0.5), \n",
    "                      plot.title = element_text(size = 25, hjust = 0.5),\n",
    "                      axis.title.y = element_text(size=20, angle = 0, vjust = 0.5),\n",
    "                      axis.title.x = element_text(size=20, vjust = -0.25)) + # Makes the text more readable. +\n",
    "                scale_x_continuous(breaks = 1:10) # Make the x-axis values go from the integers 1-10.\n",
    "\n",
    "pulsar_data_results_plot"
   ]
  },
  {
   "cell_type": "markdown",
   "id": "9762ecd0-0015-4940-aa5f-d61e5080176b",
   "metadata": {},
   "source": [
    "From the plot, we can see that the $k$-values that yield the most accurate results are 1 and 2. In this case, the $k$-value of 1 is the most optimal for our model as it is an odd number thus preventing ties from occuring when comparing the ratio of pulsars and non-pulsars during classification."
   ]
  },
  {
   "cell_type": "code",
   "execution_count": null,
   "id": "e3525792-5577-4f2d-a3eb-e69e77705a1f",
   "metadata": {},
   "outputs": [],
   "source": []
  }
 ],
 "metadata": {
  "kernelspec": {
   "display_name": "R",
   "language": "R",
   "name": "ir"
  },
  "language_info": {
   "codemirror_mode": "r",
   "file_extension": ".r",
   "mimetype": "text/x-r-source",
   "name": "R",
   "pygments_lexer": "r",
   "version": "4.1.3"
  }
 },
 "nbformat": 4,
 "nbformat_minor": 5
}
